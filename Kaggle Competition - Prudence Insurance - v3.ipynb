{
 "cells": [
  {
   "cell_type": "code",
   "execution_count": 1,
   "metadata": {
    "collapsed": false
   },
   "outputs": [],
   "source": [
    "# There are empty values in some columns, find out how Python handles them.\n",
    "\n",
    "import numpy as np\n",
    "import pandas as pd\n",
    "from pandas import Series, DataFrame"
   ]
  },
  {
   "cell_type": "code",
   "execution_count": 2,
   "metadata": {
    "collapsed": true
   },
   "outputs": [],
   "source": [
    "import matplotlib.pyplot as plt\n",
    "import seaborn as sns\n",
    "sns.set_style('whitegrid')\n",
    "%matplotlib inline"
   ]
  },
  {
   "cell_type": "code",
   "execution_count": 3,
   "metadata": {
    "collapsed": false
   },
   "outputs": [],
   "source": [
    "train_df = pd.read_csv('prudential_train.csv')"
   ]
  },
  {
   "cell_type": "code",
   "execution_count": 4,
   "metadata": {
    "collapsed": false
   },
   "outputs": [
    {
     "data": {
      "text/html": [
       "<div>\n",
       "<table border=\"1\" class=\"dataframe\">\n",
       "  <thead>\n",
       "    <tr style=\"text-align: right;\">\n",
       "      <th></th>\n",
       "      <th>Id</th>\n",
       "      <th>Product_Info_1</th>\n",
       "      <th>Product_Info_2</th>\n",
       "      <th>Product_Info_3</th>\n",
       "      <th>Product_Info_4</th>\n",
       "      <th>Product_Info_5</th>\n",
       "      <th>Product_Info_6</th>\n",
       "      <th>Product_Info_7</th>\n",
       "      <th>Ins_Age</th>\n",
       "      <th>Ht</th>\n",
       "      <th>...</th>\n",
       "      <th>Medical_Keyword_40</th>\n",
       "      <th>Medical_Keyword_41</th>\n",
       "      <th>Medical_Keyword_42</th>\n",
       "      <th>Medical_Keyword_43</th>\n",
       "      <th>Medical_Keyword_44</th>\n",
       "      <th>Medical_Keyword_45</th>\n",
       "      <th>Medical_Keyword_46</th>\n",
       "      <th>Medical_Keyword_47</th>\n",
       "      <th>Medical_Keyword_48</th>\n",
       "      <th>Response</th>\n",
       "    </tr>\n",
       "  </thead>\n",
       "  <tbody>\n",
       "    <tr>\n",
       "      <th>0</th>\n",
       "      <td>2</td>\n",
       "      <td>1</td>\n",
       "      <td>D3</td>\n",
       "      <td>10</td>\n",
       "      <td>0.076923</td>\n",
       "      <td>2</td>\n",
       "      <td>1</td>\n",
       "      <td>1</td>\n",
       "      <td>0.641791</td>\n",
       "      <td>0.581818</td>\n",
       "      <td>...</td>\n",
       "      <td>0</td>\n",
       "      <td>0</td>\n",
       "      <td>0</td>\n",
       "      <td>0</td>\n",
       "      <td>0</td>\n",
       "      <td>0</td>\n",
       "      <td>0</td>\n",
       "      <td>0</td>\n",
       "      <td>0</td>\n",
       "      <td>8</td>\n",
       "    </tr>\n",
       "    <tr>\n",
       "      <th>1</th>\n",
       "      <td>5</td>\n",
       "      <td>1</td>\n",
       "      <td>A1</td>\n",
       "      <td>26</td>\n",
       "      <td>0.076923</td>\n",
       "      <td>2</td>\n",
       "      <td>3</td>\n",
       "      <td>1</td>\n",
       "      <td>0.059701</td>\n",
       "      <td>0.600000</td>\n",
       "      <td>...</td>\n",
       "      <td>0</td>\n",
       "      <td>0</td>\n",
       "      <td>0</td>\n",
       "      <td>0</td>\n",
       "      <td>0</td>\n",
       "      <td>0</td>\n",
       "      <td>0</td>\n",
       "      <td>0</td>\n",
       "      <td>0</td>\n",
       "      <td>4</td>\n",
       "    </tr>\n",
       "    <tr>\n",
       "      <th>2</th>\n",
       "      <td>6</td>\n",
       "      <td>1</td>\n",
       "      <td>E1</td>\n",
       "      <td>26</td>\n",
       "      <td>0.076923</td>\n",
       "      <td>2</td>\n",
       "      <td>3</td>\n",
       "      <td>1</td>\n",
       "      <td>0.029851</td>\n",
       "      <td>0.745455</td>\n",
       "      <td>...</td>\n",
       "      <td>0</td>\n",
       "      <td>0</td>\n",
       "      <td>0</td>\n",
       "      <td>0</td>\n",
       "      <td>0</td>\n",
       "      <td>0</td>\n",
       "      <td>0</td>\n",
       "      <td>0</td>\n",
       "      <td>0</td>\n",
       "      <td>8</td>\n",
       "    </tr>\n",
       "    <tr>\n",
       "      <th>3</th>\n",
       "      <td>7</td>\n",
       "      <td>1</td>\n",
       "      <td>D4</td>\n",
       "      <td>10</td>\n",
       "      <td>0.487179</td>\n",
       "      <td>2</td>\n",
       "      <td>3</td>\n",
       "      <td>1</td>\n",
       "      <td>0.164179</td>\n",
       "      <td>0.672727</td>\n",
       "      <td>...</td>\n",
       "      <td>0</td>\n",
       "      <td>0</td>\n",
       "      <td>0</td>\n",
       "      <td>0</td>\n",
       "      <td>0</td>\n",
       "      <td>0</td>\n",
       "      <td>0</td>\n",
       "      <td>0</td>\n",
       "      <td>0</td>\n",
       "      <td>8</td>\n",
       "    </tr>\n",
       "    <tr>\n",
       "      <th>4</th>\n",
       "      <td>8</td>\n",
       "      <td>1</td>\n",
       "      <td>D2</td>\n",
       "      <td>26</td>\n",
       "      <td>0.230769</td>\n",
       "      <td>2</td>\n",
       "      <td>3</td>\n",
       "      <td>1</td>\n",
       "      <td>0.417910</td>\n",
       "      <td>0.654545</td>\n",
       "      <td>...</td>\n",
       "      <td>0</td>\n",
       "      <td>0</td>\n",
       "      <td>0</td>\n",
       "      <td>0</td>\n",
       "      <td>0</td>\n",
       "      <td>0</td>\n",
       "      <td>0</td>\n",
       "      <td>0</td>\n",
       "      <td>0</td>\n",
       "      <td>8</td>\n",
       "    </tr>\n",
       "  </tbody>\n",
       "</table>\n",
       "<p>5 rows × 128 columns</p>\n",
       "</div>"
      ],
      "text/plain": [
       "   Id  Product_Info_1 Product_Info_2  Product_Info_3  Product_Info_4  \\\n",
       "0   2               1             D3              10        0.076923   \n",
       "1   5               1             A1              26        0.076923   \n",
       "2   6               1             E1              26        0.076923   \n",
       "3   7               1             D4              10        0.487179   \n",
       "4   8               1             D2              26        0.230769   \n",
       "\n",
       "   Product_Info_5  Product_Info_6  Product_Info_7   Ins_Age        Ht  \\\n",
       "0               2               1               1  0.641791  0.581818   \n",
       "1               2               3               1  0.059701  0.600000   \n",
       "2               2               3               1  0.029851  0.745455   \n",
       "3               2               3               1  0.164179  0.672727   \n",
       "4               2               3               1  0.417910  0.654545   \n",
       "\n",
       "     ...     Medical_Keyword_40  Medical_Keyword_41  Medical_Keyword_42  \\\n",
       "0    ...                      0                   0                   0   \n",
       "1    ...                      0                   0                   0   \n",
       "2    ...                      0                   0                   0   \n",
       "3    ...                      0                   0                   0   \n",
       "4    ...                      0                   0                   0   \n",
       "\n",
       "   Medical_Keyword_43  Medical_Keyword_44  Medical_Keyword_45  \\\n",
       "0                   0                   0                   0   \n",
       "1                   0                   0                   0   \n",
       "2                   0                   0                   0   \n",
       "3                   0                   0                   0   \n",
       "4                   0                   0                   0   \n",
       "\n",
       "   Medical_Keyword_46  Medical_Keyword_47  Medical_Keyword_48  Response  \n",
       "0                   0                   0                   0         8  \n",
       "1                   0                   0                   0         4  \n",
       "2                   0                   0                   0         8  \n",
       "3                   0                   0                   0         8  \n",
       "4                   0                   0                   0         8  \n",
       "\n",
       "[5 rows x 128 columns]"
      ]
     },
     "execution_count": 4,
     "metadata": {},
     "output_type": "execute_result"
    }
   ],
   "source": [
    "train_df.head()"
   ]
  },
  {
   "cell_type": "code",
   "execution_count": 5,
   "metadata": {
    "collapsed": false
   },
   "outputs": [
    {
     "data": {
      "text/plain": [
       "<seaborn.axisgrid.FacetGrid at 0x1c304da0>"
      ]
     },
     "execution_count": 5,
     "metadata": {},
     "output_type": "execute_result"
    },
    {
     "data": {
      "image/png": "[encoded data removed]",
      "text/plain": [
       "<matplotlib.figure.Figure at 0x1c2ea7f0>"
      ]
     },
     "metadata": {},
     "output_type": "display_data"
    }
   ],
   "source": [
    "sns.factorplot('Response',data=train_df, kind='count', hue='Product_Info_1')"
   ]
  },
  {
   "cell_type": "code",
   "execution_count": 6,
   "metadata": {
    "collapsed": false
   },
   "outputs": [
    {
     "data": {
      "text/plain": [
       "<seaborn.axisgrid.FacetGrid at 0x2371c748>"
      ]
     },
     "execution_count": 6,
     "metadata": {},
     "output_type": "execute_result"
    },
    {
     "data": {
      "image/png": "[encoded data removed]",
      "text/plain": [
       "<matplotlib.figure.Figure at 0x21b81a90>"
      ]
     },
     "metadata": {},
     "output_type": "display_data"
    }
   ],
   "source": [
    "sns.factorplot('Response',data=train_df, kind='count', hue='Product_Info_2')"
   ]
  },
  {
   "cell_type": "code",
   "execution_count": 7,
   "metadata": {
    "collapsed": false
   },
   "outputs": [
    {
     "data": {
      "text/plain": [
       "<seaborn.axisgrid.FacetGrid at 0x38f74198>"
      ]
     },
     "execution_count": 7,
     "metadata": {},
     "output_type": "execute_result"
    },
    {
     "data": {
      "image/png": "[encoded data removed]",
      "text/plain": [
       "<matplotlib.figure.Figure at 0x38f74390>"
      ]
     },
     "metadata": {},
     "output_type": "display_data"
    }
   ],
   "source": [
    "sns.factorplot('Response',data=train_df, kind='count', hue='Product_Info_3')"
   ]
  },
  {
   "cell_type": "code",
   "execution_count": 8,
   "metadata": {
    "collapsed": false
   },
   "outputs": [
    {
     "data": {
      "text/html": [
       "<div>\n",
       "<table border=\"1\" class=\"dataframe\">\n",
       "  <thead>\n",
       "    <tr style=\"text-align: right;\">\n",
       "      <th></th>\n",
       "      <th>Id</th>\n",
       "      <th>Product_Info_1</th>\n",
       "      <th>Product_Info_2</th>\n",
       "      <th>Product_Info_3</th>\n",
       "      <th>Product_Info_4</th>\n",
       "      <th>Product_Info_5</th>\n",
       "      <th>Product_Info_6</th>\n",
       "      <th>Product_Info_7</th>\n",
       "      <th>Ins_Age</th>\n",
       "      <th>Ht</th>\n",
       "      <th>...</th>\n",
       "      <th>Medical_Keyword_40</th>\n",
       "      <th>Medical_Keyword_41</th>\n",
       "      <th>Medical_Keyword_42</th>\n",
       "      <th>Medical_Keyword_43</th>\n",
       "      <th>Medical_Keyword_44</th>\n",
       "      <th>Medical_Keyword_45</th>\n",
       "      <th>Medical_Keyword_46</th>\n",
       "      <th>Medical_Keyword_47</th>\n",
       "      <th>Medical_Keyword_48</th>\n",
       "      <th>Response</th>\n",
       "    </tr>\n",
       "  </thead>\n",
       "  <tbody>\n",
       "    <tr>\n",
       "      <th>0</th>\n",
       "      <td>2</td>\n",
       "      <td>1</td>\n",
       "      <td>D3</td>\n",
       "      <td>10</td>\n",
       "      <td>0.076923</td>\n",
       "      <td>2</td>\n",
       "      <td>1</td>\n",
       "      <td>1</td>\n",
       "      <td>0.641791</td>\n",
       "      <td>0.581818</td>\n",
       "      <td>...</td>\n",
       "      <td>0</td>\n",
       "      <td>0</td>\n",
       "      <td>0</td>\n",
       "      <td>0</td>\n",
       "      <td>0</td>\n",
       "      <td>0</td>\n",
       "      <td>0</td>\n",
       "      <td>0</td>\n",
       "      <td>0</td>\n",
       "      <td>8</td>\n",
       "    </tr>\n",
       "    <tr>\n",
       "      <th>1</th>\n",
       "      <td>5</td>\n",
       "      <td>1</td>\n",
       "      <td>A1</td>\n",
       "      <td>26</td>\n",
       "      <td>0.076923</td>\n",
       "      <td>2</td>\n",
       "      <td>3</td>\n",
       "      <td>1</td>\n",
       "      <td>0.059701</td>\n",
       "      <td>0.600000</td>\n",
       "      <td>...</td>\n",
       "      <td>0</td>\n",
       "      <td>0</td>\n",
       "      <td>0</td>\n",
       "      <td>0</td>\n",
       "      <td>0</td>\n",
       "      <td>0</td>\n",
       "      <td>0</td>\n",
       "      <td>0</td>\n",
       "      <td>0</td>\n",
       "      <td>4</td>\n",
       "    </tr>\n",
       "    <tr>\n",
       "      <th>2</th>\n",
       "      <td>6</td>\n",
       "      <td>1</td>\n",
       "      <td>E1</td>\n",
       "      <td>26</td>\n",
       "      <td>0.076923</td>\n",
       "      <td>2</td>\n",
       "      <td>3</td>\n",
       "      <td>1</td>\n",
       "      <td>0.029851</td>\n",
       "      <td>0.745455</td>\n",
       "      <td>...</td>\n",
       "      <td>0</td>\n",
       "      <td>0</td>\n",
       "      <td>0</td>\n",
       "      <td>0</td>\n",
       "      <td>0</td>\n",
       "      <td>0</td>\n",
       "      <td>0</td>\n",
       "      <td>0</td>\n",
       "      <td>0</td>\n",
       "      <td>8</td>\n",
       "    </tr>\n",
       "    <tr>\n",
       "      <th>3</th>\n",
       "      <td>7</td>\n",
       "      <td>1</td>\n",
       "      <td>D4</td>\n",
       "      <td>10</td>\n",
       "      <td>0.487179</td>\n",
       "      <td>2</td>\n",
       "      <td>3</td>\n",
       "      <td>1</td>\n",
       "      <td>0.164179</td>\n",
       "      <td>0.672727</td>\n",
       "      <td>...</td>\n",
       "      <td>0</td>\n",
       "      <td>0</td>\n",
       "      <td>0</td>\n",
       "      <td>0</td>\n",
       "      <td>0</td>\n",
       "      <td>0</td>\n",
       "      <td>0</td>\n",
       "      <td>0</td>\n",
       "      <td>0</td>\n",
       "      <td>8</td>\n",
       "    </tr>\n",
       "    <tr>\n",
       "      <th>4</th>\n",
       "      <td>8</td>\n",
       "      <td>1</td>\n",
       "      <td>D2</td>\n",
       "      <td>26</td>\n",
       "      <td>0.230769</td>\n",
       "      <td>2</td>\n",
       "      <td>3</td>\n",
       "      <td>1</td>\n",
       "      <td>0.417910</td>\n",
       "      <td>0.654545</td>\n",
       "      <td>...</td>\n",
       "      <td>0</td>\n",
       "      <td>0</td>\n",
       "      <td>0</td>\n",
       "      <td>0</td>\n",
       "      <td>0</td>\n",
       "      <td>0</td>\n",
       "      <td>0</td>\n",
       "      <td>0</td>\n",
       "      <td>0</td>\n",
       "      <td>8</td>\n",
       "    </tr>\n",
       "  </tbody>\n",
       "</table>\n",
       "<p>5 rows × 128 columns</p>\n",
       "</div>"
      ],
      "text/plain": [
       "   Id  Product_Info_1 Product_Info_2  Product_Info_3  Product_Info_4  \\\n",
       "0   2               1             D3              10        0.076923   \n",
       "1   5               1             A1              26        0.076923   \n",
       "2   6               1             E1              26        0.076923   \n",
       "3   7               1             D4              10        0.487179   \n",
       "4   8               1             D2              26        0.230769   \n",
       "\n",
       "   Product_Info_5  Product_Info_6  Product_Info_7   Ins_Age        Ht  \\\n",
       "0               2               1               1  0.641791  0.581818   \n",
       "1               2               3               1  0.059701  0.600000   \n",
       "2               2               3               1  0.029851  0.745455   \n",
       "3               2               3               1  0.164179  0.672727   \n",
       "4               2               3               1  0.417910  0.654545   \n",
       "\n",
       "     ...     Medical_Keyword_40  Medical_Keyword_41  Medical_Keyword_42  \\\n",
       "0    ...                      0                   0                   0   \n",
       "1    ...                      0                   0                   0   \n",
       "2    ...                      0                   0                   0   \n",
       "3    ...                      0                   0                   0   \n",
       "4    ...                      0                   0                   0   \n",
       "\n",
       "   Medical_Keyword_43  Medical_Keyword_44  Medical_Keyword_45  \\\n",
       "0                   0                   0                   0   \n",
       "1                   0                   0                   0   \n",
       "2                   0                   0                   0   \n",
       "3                   0                   0                   0   \n",
       "4                   0                   0                   0   \n",
       "\n",
       "   Medical_Keyword_46  Medical_Keyword_47  Medical_Keyword_48  Response  \n",
       "0                   0                   0                   0         8  \n",
       "1                   0                   0                   0         4  \n",
       "2                   0                   0                   0         8  \n",
       "3                   0                   0                   0         8  \n",
       "4                   0                   0                   0         8  \n",
       "\n",
       "[5 rows x 128 columns]"
      ]
     },
     "execution_count": 8,
     "metadata": {},
     "output_type": "execute_result"
    }
   ],
   "source": [
    "train_df.head()"
   ]
  },
  {
   "cell_type": "code",
   "execution_count": 9,
   "metadata": {
    "collapsed": false
   },
   "outputs": [
    {
     "data": {
      "text/plain": [
       "1    57816\n",
       "2     1565\n",
       "Name: Product_Info_1, dtype: int64"
      ]
     },
     "execution_count": 9,
     "metadata": {},
     "output_type": "execute_result"
    }
   ],
   "source": [
    "train_df['Product_Info_1'].value_counts()"
   ]
  },
  {
   "cell_type": "code",
   "execution_count": 10,
   "metadata": {
    "collapsed": false
   },
   "outputs": [],
   "source": [
    "prod_info_1_dum = pd.get_dummies(train_df['Product_Info_1'])\n",
    "prod_info_1_dum = prod_info_1_dum.drop(1, axis=1)"
   ]
  },
  {
   "cell_type": "code",
   "execution_count": 11,
   "metadata": {
    "collapsed": false
   },
   "outputs": [
    {
     "data": {
      "text/plain": [
       "D3    14321\n",
       "D4    10812\n",
       "A8     6835\n",
       "D1     6554\n",
       "D2     6286\n",
       "E1     2647\n",
       "A1     2363\n",
       "A6     2098\n",
       "A2     1974\n",
       "A7     1383\n",
       "B2     1122\n",
       "A3      977\n",
       "A5      775\n",
       "C3      306\n",
       "C1      285\n",
       "C4      219\n",
       "A4      210\n",
       "C2      160\n",
       "B1       54\n",
       "Name: Product_Info_2, dtype: int64"
      ]
     },
     "execution_count": 11,
     "metadata": {},
     "output_type": "execute_result"
    }
   ],
   "source": [
    "train_df['Product_Info_2'].value_counts()"
   ]
  },
  {
   "cell_type": "code",
   "execution_count": 12,
   "metadata": {
    "collapsed": false
   },
   "outputs": [],
   "source": [
    "prod_info_2_dum = pd.get_dummies(train_df['Product_Info_2'])\n",
    "prod_info_2_dum = prod_info_2_dum.drop('A1', axis=1)"
   ]
  },
  {
   "cell_type": "code",
   "execution_count": 13,
   "metadata": {
    "collapsed": false
   },
   "outputs": [
    {
     "data": {
      "text/plain": [
       "26    50892\n",
       "10     6008\n",
       "29     1334\n",
       "31      411\n",
       "15      251\n",
       "37      139\n",
       "30       64\n",
       "4        58\n",
       "8        48\n",
       "11       40\n",
       "28       37\n",
       "36       25\n",
       "9        11\n",
       "21       11\n",
       "23       10\n",
       "33        9\n",
       "2         8\n",
       "17        3\n",
       "6         3\n",
       "34        2\n",
       "3         2\n",
       "12        2\n",
       "32        2\n",
       "38        1\n",
       "13        1\n",
       "16        1\n",
       "5         1\n",
       "18        1\n",
       "19        1\n",
       "20        1\n",
       "22        1\n",
       "24        1\n",
       "27        1\n",
       "1         1\n",
       "Name: Product_Info_3, dtype: int64"
      ]
     },
     "execution_count": 13,
     "metadata": {},
     "output_type": "execute_result"
    }
   ],
   "source": [
    "train_df['Product_Info_3'].value_counts()"
   ]
  },
  {
   "cell_type": "code",
   "execution_count": 14,
   "metadata": {
    "collapsed": false
   },
   "outputs": [],
   "source": [
    "prod_info_3_dum = pd.get_dummies(train_df['Product_Info_3'])\n",
    "prod_info_3_dum = prod_info_3_dum.drop(1, axis=1)"
   ]
  },
  {
   "cell_type": "code",
   "execution_count": 15,
   "metadata": {
    "collapsed": true
   },
   "outputs": [],
   "source": [
    "prod_info_4_dum = train_df['Product_Info_4']"
   ]
  },
  {
   "cell_type": "code",
   "execution_count": 16,
   "metadata": {
    "collapsed": false
   },
   "outputs": [
    {
     "data": {
      "text/plain": [
       "2    58968\n",
       "3      413\n",
       "Name: Product_Info_5, dtype: int64"
      ]
     },
     "execution_count": 16,
     "metadata": {},
     "output_type": "execute_result"
    }
   ],
   "source": [
    "train_df['Product_Info_5'].value_counts()"
   ]
  },
  {
   "cell_type": "code",
   "execution_count": 17,
   "metadata": {
    "collapsed": false
   },
   "outputs": [],
   "source": [
    "prod_info_5_dum = pd.get_dummies(train_df['Product_Info_5'])\n",
    "prod_info_5_dum = prod_info_5_dum.drop(3, axis=1)"
   ]
  },
  {
   "cell_type": "code",
   "execution_count": 18,
   "metadata": {
    "collapsed": false
   },
   "outputs": [
    {
     "data": {
      "text/plain": [
       "3    49690\n",
       "1     9691\n",
       "Name: Product_Info_6, dtype: int64"
      ]
     },
     "execution_count": 18,
     "metadata": {},
     "output_type": "execute_result"
    }
   ],
   "source": [
    "train_df['Product_Info_6'].value_counts()"
   ]
  },
  {
   "cell_type": "code",
   "execution_count": 19,
   "metadata": {
    "collapsed": false
   },
   "outputs": [],
   "source": [
    "prod_info_6_dum = pd.get_dummies(train_df['Product_Info_6'])\n",
    "prod_info_6_dum = prod_info_6_dum.drop(1, axis=1)"
   ]
  },
  {
   "cell_type": "code",
   "execution_count": 20,
   "metadata": {
    "collapsed": false
   },
   "outputs": [
    {
     "data": {
      "text/plain": [
       "1    58086\n",
       "3     1293\n",
       "2        2\n",
       "Name: Product_Info_7, dtype: int64"
      ]
     },
     "execution_count": 20,
     "metadata": {},
     "output_type": "execute_result"
    }
   ],
   "source": [
    "train_df['Product_Info_7'].value_counts()"
   ]
  },
  {
   "cell_type": "code",
   "execution_count": 21,
   "metadata": {
    "collapsed": true
   },
   "outputs": [],
   "source": [
    "prod_info_7_dum = pd.get_dummies(train_df['Product_Info_7'])\n",
    "prod_info_7_dum = prod_info_7_dum.drop(2, axis=1)"
   ]
  },
  {
   "cell_type": "code",
   "execution_count": 22,
   "metadata": {
    "collapsed": false
   },
   "outputs": [
    {
     "data": {
      "text/plain": [
       "(59381, 57)"
      ]
     },
     "execution_count": 22,
     "metadata": {},
     "output_type": "execute_result"
    }
   ],
   "source": [
    "prod_info_dummies = pd.concat([prod_info_1_dum, prod_info_2_dum, prod_info_3_dum, prod_info_4_dum,\n",
    "                              prod_info_5_dum, prod_info_6_dum, prod_info_7_dum], axis = 1)\n",
    "prod_info_dummies.shape"
   ]
  },
  {
   "cell_type": "code",
   "execution_count": 23,
   "metadata": {
    "collapsed": false
   },
   "outputs": [],
   "source": [
    "physical_info = train_df[['Ins_Age','Ht','Wt','BMI']]"
   ]
  },
  {
   "cell_type": "code",
   "execution_count": 24,
   "metadata": {
    "collapsed": false
   },
   "outputs": [],
   "source": [
    "emp_info_1_dum = train_df['Employment_Info_1']"
   ]
  },
  {
   "cell_type": "code",
   "execution_count": 25,
   "metadata": {
    "collapsed": false
   },
   "outputs": [],
   "source": [
    "emp_info_2_dum = pd.get_dummies(train_df['Employment_Info_2'])\n",
    "train_df['Employment_Info_2'].value_counts()\n",
    "emp_info_2_dum = emp_info_2_dum.drop(31, axis=1)"
   ]
  },
  {
   "cell_type": "code",
   "execution_count": 26,
   "metadata": {
    "collapsed": false
   },
   "outputs": [],
   "source": [
    "emp_info_3_dum = pd.get_dummies(train_df['Employment_Info_3'])\n",
    "train_df['Employment_Info_3'].value_counts()\n",
    "emp_info_3_dum = emp_info_3_dum.drop(3, axis=1)"
   ]
  },
  {
   "cell_type": "code",
   "execution_count": 27,
   "metadata": {
    "collapsed": true
   },
   "outputs": [],
   "source": [
    "emp_info_4_dum = train_df['Employment_Info_4']"
   ]
  },
  {
   "cell_type": "code",
   "execution_count": 28,
   "metadata": {
    "collapsed": false
   },
   "outputs": [],
   "source": [
    "emp_info_5_dum = pd.get_dummies(train_df['Employment_Info_5'])\n",
    "train_df['Employment_Info_5'].value_counts()\n",
    "emp_info_5_dum = emp_info_5_dum.drop(3, axis=1)"
   ]
  },
  {
   "cell_type": "code",
   "execution_count": 29,
   "metadata": {
    "collapsed": true
   },
   "outputs": [],
   "source": [
    "emp_info_6_dum = train_df['Employment_Info_6']"
   ]
  },
  {
   "cell_type": "code",
   "execution_count": 30,
   "metadata": {
    "collapsed": false
   },
   "outputs": [
    {
     "data": {
      "text/plain": [
       "(59381, 40)"
      ]
     },
     "execution_count": 30,
     "metadata": {},
     "output_type": "execute_result"
    }
   ],
   "source": [
    "emp_info_dummies = pd.concat([emp_info_1_dum, emp_info_2_dum, emp_info_3_dum, emp_info_4_dum,\n",
    "                              emp_info_5_dum, emp_info_6_dum], axis = 1)\n",
    "emp_info_dummies.shape"
   ]
  },
  {
   "cell_type": "code",
   "execution_count": 31,
   "metadata": {
    "collapsed": false
   },
   "outputs": [],
   "source": [
    "ins_info_1_dum = pd.get_dummies(train_df['InsuredInfo_1'])\n",
    "train_df['InsuredInfo_1'].value_counts()\n",
    "ins_info_1_dum = ins_info_1_dum.drop(3, axis=1)"
   ]
  },
  {
   "cell_type": "code",
   "execution_count": 32,
   "metadata": {
    "collapsed": false
   },
   "outputs": [],
   "source": [
    "ins_info_2_dum = pd.get_dummies(train_df['InsuredInfo_2'])\n",
    "train_df['InsuredInfo_2'].value_counts()\n",
    "ins_info_2_dum = ins_info_2_dum.drop(3, axis=1)"
   ]
  },
  {
   "cell_type": "code",
   "execution_count": 33,
   "metadata": {
    "collapsed": false
   },
   "outputs": [],
   "source": [
    "ins_info_3_dum = pd.get_dummies(train_df['InsuredInfo_3'])\n",
    "train_df['InsuredInfo_3'].value_counts()\n",
    "ins_info_3_dum = ins_info_3_dum.drop(9, axis=1)"
   ]
  },
  {
   "cell_type": "code",
   "execution_count": 34,
   "metadata": {
    "collapsed": false
   },
   "outputs": [],
   "source": [
    "ins_info_4_dum = pd.get_dummies(train_df['InsuredInfo_4'])\n",
    "train_df['InsuredInfo_4'].value_counts()\n",
    "ins_info_4_dum = ins_info_4_dum.drop(2, axis=1)"
   ]
  },
  {
   "cell_type": "code",
   "execution_count": 35,
   "metadata": {
    "collapsed": false
   },
   "outputs": [],
   "source": [
    "ins_info_5_dum = pd.get_dummies(train_df['InsuredInfo_5'])\n",
    "train_df['InsuredInfo_5'].value_counts()\n",
    "ins_info_5_dum = ins_info_5_dum.drop(3, axis=1)"
   ]
  },
  {
   "cell_type": "code",
   "execution_count": 36,
   "metadata": {
    "collapsed": false
   },
   "outputs": [],
   "source": [
    "ins_info_6_dum = pd.get_dummies(train_df['InsuredInfo_6'])\n",
    "train_df['InsuredInfo_6'].value_counts()\n",
    "ins_info_6_dum = ins_info_6_dum.drop(2, axis=1)"
   ]
  },
  {
   "cell_type": "code",
   "execution_count": 37,
   "metadata": {
    "collapsed": false
   },
   "outputs": [],
   "source": [
    "ins_info_7_dum = pd.get_dummies(train_df['InsuredInfo_7'])\n",
    "train_df['InsuredInfo_7'].value_counts()\n",
    "ins_info_7_dum = ins_info_7_dum.drop(3, axis=1)"
   ]
  },
  {
   "cell_type": "code",
   "execution_count": 38,
   "metadata": {
    "collapsed": false
   },
   "outputs": [
    {
     "data": {
      "text/plain": [
       "(59381, 17)"
      ]
     },
     "execution_count": 38,
     "metadata": {},
     "output_type": "execute_result"
    }
   ],
   "source": [
    "ins_info_dummies = pd.concat([ins_info_1_dum, ins_info_2_dum, ins_info_3_dum, ins_info_4_dum,\n",
    "                              ins_info_5_dum, ins_info_6_dum, ins_info_7_dum], axis = 1)\n",
    "ins_info_dummies.shape"
   ]
  },
  {
   "cell_type": "code",
   "execution_count": 39,
   "metadata": {
    "collapsed": false
   },
   "outputs": [],
   "source": [
    "ins_hist_1_dum = pd.get_dummies(train_df['Insurance_History_1'])\n",
    "train_df['Insurance_History_1'].value_counts()\n",
    "ins_hist_1_dum = ins_hist_1_dum.drop(1, axis=1)"
   ]
  },
  {
   "cell_type": "code",
   "execution_count": 40,
   "metadata": {
    "collapsed": false
   },
   "outputs": [],
   "source": [
    "ins_hist_2_dum = pd.get_dummies(train_df['Insurance_History_2'])\n",
    "train_df['Insurance_History_2'].value_counts()\n",
    "ins_hist_2_dum = ins_hist_2_dum.drop(2, axis=1)"
   ]
  },
  {
   "cell_type": "code",
   "execution_count": 41,
   "metadata": {
    "collapsed": false
   },
   "outputs": [],
   "source": [
    "ins_hist_3_dum = pd.get_dummies(train_df['Insurance_History_3'])\n",
    "train_df['Insurance_History_3'].value_counts()\n",
    "ins_hist_3_dum = ins_hist_3_dum.drop(2, axis=1)"
   ]
  },
  {
   "cell_type": "code",
   "execution_count": 42,
   "metadata": {
    "collapsed": false
   },
   "outputs": [],
   "source": [
    "ins_hist_4_dum = pd.get_dummies(train_df['Insurance_History_4'])\n",
    "train_df['Insurance_History_4'].value_counts()\n",
    "ins_hist_4_dum = ins_hist_4_dum.drop(2, axis=1)"
   ]
  },
  {
   "cell_type": "code",
   "execution_count": 43,
   "metadata": {
    "collapsed": true
   },
   "outputs": [],
   "source": [
    "ins_hist_5_dum = train_df['Insurance_History_5']\n",
    "# No insurance history 6"
   ]
  },
  {
   "cell_type": "code",
   "execution_count": 44,
   "metadata": {
    "collapsed": false
   },
   "outputs": [],
   "source": [
    "ins_hist_7_dum = pd.get_dummies(train_df['Insurance_History_7'])\n",
    "train_df['Insurance_History_7'].value_counts()\n",
    "ins_hist_7_dum = ins_hist_7_dum.drop(2, axis=1)"
   ]
  },
  {
   "cell_type": "code",
   "execution_count": 45,
   "metadata": {
    "collapsed": false
   },
   "outputs": [],
   "source": [
    "ins_hist_8_dum = pd.get_dummies(train_df['Insurance_History_8'])\n",
    "train_df['Insurance_History_8'].value_counts()\n",
    "ins_hist_8_dum = ins_hist_8_dum.drop(1, axis=1)"
   ]
  },
  {
   "cell_type": "code",
   "execution_count": 46,
   "metadata": {
    "collapsed": false
   },
   "outputs": [],
   "source": [
    "ins_hist_9_dum = pd.get_dummies(train_df['Insurance_History_9'])\n",
    "train_df['Insurance_History_9'].value_counts()\n",
    "ins_hist_9_dum = ins_hist_9_dum.drop(1, axis=1)"
   ]
  },
  {
   "cell_type": "code",
   "execution_count": 47,
   "metadata": {
    "collapsed": false
   },
   "outputs": [
    {
     "data": {
      "text/plain": [
       "(59381, 17)"
      ]
     },
     "execution_count": 47,
     "metadata": {},
     "output_type": "execute_result"
    }
   ],
   "source": [
    "ins_hist_dummies = pd.concat([ins_hist_1_dum, ins_hist_2_dum, ins_hist_3_dum, ins_hist_4_dum,\n",
    "                              ins_hist_5_dum, ins_hist_7_dum, ins_hist_8_dum, ins_hist_9_dum], axis = 1)\n",
    "ins_info_dummies.shape"
   ]
  },
  {
   "cell_type": "code",
   "execution_count": 48,
   "metadata": {
    "collapsed": false
   },
   "outputs": [],
   "source": [
    "fam_hist_1_dum = pd.get_dummies(train_df['Family_Hist_1'])\n",
    "train_df['Family_Hist_1'].value_counts()\n",
    "fam_hist_1_dum = fam_hist_1_dum.drop(1, axis=1)"
   ]
  },
  {
   "cell_type": "code",
   "execution_count": 49,
   "metadata": {
    "collapsed": true
   },
   "outputs": [],
   "source": [
    "fam_hist_2_dum = train_df['Family_Hist_2']\n",
    "fam_hist_3_dum = train_df['Family_Hist_3']\n",
    "fam_hist_4_dum = train_df['Family_Hist_4']\n",
    "fam_hist_5_dum = train_df['Family_Hist_5']"
   ]
  },
  {
   "cell_type": "code",
   "execution_count": 50,
   "metadata": {
    "collapsed": false
   },
   "outputs": [
    {
     "data": {
      "text/plain": [
       "(59381, 6)"
      ]
     },
     "execution_count": 50,
     "metadata": {},
     "output_type": "execute_result"
    }
   ],
   "source": [
    "fam_hist_dummies = pd.concat([fam_hist_1_dum, fam_hist_2_dum, fam_hist_3_dum, fam_hist_4_dum,\n",
    "                              fam_hist_5_dum], axis = 1)\n",
    "fam_hist_dummies.shape"
   ]
  },
  {
   "cell_type": "code",
   "execution_count": 51,
   "metadata": {
    "collapsed": false
   },
   "outputs": [],
   "source": [
    "med_hist_1_dum = pd.get_dummies(train_df['Medical_History_1'])\n",
    "train_df['Medical_History_1'].value_counts()\n",
    "med_hist_1_dum = med_hist_1_dum.drop(132, axis=1)"
   ]
  },
  {
   "cell_type": "code",
   "execution_count": 52,
   "metadata": {
    "collapsed": false
   },
   "outputs": [],
   "source": [
    "med_hist_2_dum = pd.get_dummies(train_df['Medical_History_2'])\n",
    "train_df['Medical_History_2'].value_counts()\n",
    "med_hist_2_dum = med_hist_2_dum.drop(209, axis=1)"
   ]
  },
  {
   "cell_type": "code",
   "execution_count": 53,
   "metadata": {
    "collapsed": false
   },
   "outputs": [],
   "source": [
    "med_hist_3_dum = pd.get_dummies(train_df['Medical_History_3'])\n",
    "train_df['Medical_History_3'].value_counts()\n",
    "med_hist_3_dum = med_hist_3_dum.drop(1, axis=1)"
   ]
  },
  {
   "cell_type": "code",
   "execution_count": 54,
   "metadata": {
    "collapsed": false
   },
   "outputs": [],
   "source": [
    "med_hist_4_dum = pd.get_dummies(train_df['Medical_History_4'])\n",
    "train_df['Medical_History_4'].value_counts()\n",
    "med_hist_4_dum = med_hist_4_dum.drop(1, axis=1)"
   ]
  },
  {
   "cell_type": "code",
   "execution_count": 55,
   "metadata": {
    "collapsed": false
   },
   "outputs": [],
   "source": [
    "med_hist_5_dum = pd.get_dummies(train_df['Medical_History_5'])\n",
    "train_df['Medical_History_5'].value_counts()\n",
    "med_hist_5_dum = med_hist_5_dum.drop(3, axis=1)"
   ]
  },
  {
   "cell_type": "code",
   "execution_count": 56,
   "metadata": {
    "collapsed": false
   },
   "outputs": [],
   "source": [
    "med_hist_6_dum = pd.get_dummies(train_df['Medical_History_6'])\n",
    "train_df['Medical_History_6'].value_counts()\n",
    "med_hist_6_dum = med_hist_6_dum.drop(2, axis=1)"
   ]
  },
  {
   "cell_type": "code",
   "execution_count": 57,
   "metadata": {
    "collapsed": false
   },
   "outputs": [],
   "source": [
    "med_hist_7_dum = pd.get_dummies(train_df['Medical_History_7'])\n",
    "train_df['Medical_History_7'].value_counts()\n",
    "med_hist_7_dum = med_hist_7_dum.drop(1, axis=1)"
   ]
  },
  {
   "cell_type": "code",
   "execution_count": 58,
   "metadata": {
    "collapsed": false
   },
   "outputs": [],
   "source": [
    "med_hist_8_dum = pd.get_dummies(train_df['Medical_History_8'])\n",
    "train_df['Medical_History_8'].value_counts()\n",
    "med_hist_8_dum = med_hist_8_dum.drop(1, axis=1)"
   ]
  },
  {
   "cell_type": "code",
   "execution_count": 59,
   "metadata": {
    "collapsed": false
   },
   "outputs": [],
   "source": [
    "med_hist_9_dum = pd.get_dummies(train_df['Medical_History_9'])\n",
    "train_df['Medical_History_9'].value_counts()\n",
    "med_hist_9_dum = med_hist_9_dum.drop(3, axis=1)"
   ]
  },
  {
   "cell_type": "code",
   "execution_count": 60,
   "metadata": {
    "collapsed": false
   },
   "outputs": [],
   "source": [
    "med_hist_10_dum = pd.get_dummies(train_df['Medical_History_10'])\n",
    "train_df['Medical_History_10'].value_counts()\n",
    "med_hist_10_dum = med_hist_10_dum.drop(79, axis=1)"
   ]
  },
  {
   "cell_type": "code",
   "execution_count": 61,
   "metadata": {
    "collapsed": false
   },
   "outputs": [],
   "source": [
    "med_hist_11_dum = pd.get_dummies(train_df['Medical_History_11'])\n",
    "train_df['Medical_History_11'].value_counts()\n",
    "med_hist_11_dum = med_hist_11_dum.drop(1, axis=1)"
   ]
  },
  {
   "cell_type": "code",
   "execution_count": 62,
   "metadata": {
    "collapsed": false
   },
   "outputs": [],
   "source": [
    "med_hist_12_dum = pd.get_dummies(train_df['Medical_History_12'])\n",
    "train_df['Medical_History_12'].value_counts()\n",
    "med_hist_12_dum = med_hist_12_dum.drop(1, axis=1)"
   ]
  },
  {
   "cell_type": "code",
   "execution_count": 63,
   "metadata": {
    "collapsed": false
   },
   "outputs": [],
   "source": [
    "med_hist_13_dum = pd.get_dummies(train_df['Medical_History_13'])\n",
    "train_df['Medical_History_13'].value_counts()\n",
    "med_hist_13_dum = med_hist_13_dum.drop(2, axis=1)"
   ]
  },
  {
   "cell_type": "code",
   "execution_count": 64,
   "metadata": {
    "collapsed": false
   },
   "outputs": [],
   "source": [
    "med_hist_14_dum = pd.get_dummies(train_df['Medical_History_14'])\n",
    "train_df['Medical_History_14'].value_counts()\n",
    "med_hist_14_dum = med_hist_14_dum.drop(1, axis=1)"
   ]
  },
  {
   "cell_type": "code",
   "execution_count": 65,
   "metadata": {
    "collapsed": false
   },
   "outputs": [],
   "source": [
    "med_hist_15_dum = pd.get_dummies(train_df['Medical_History_15'])\n",
    "train_df['Medical_History_15'].value_counts()\n",
    "med_hist_15_dum = med_hist_15_dum.drop(206, axis=1)"
   ]
  },
  {
   "cell_type": "code",
   "execution_count": 66,
   "metadata": {
    "collapsed": false
   },
   "outputs": [],
   "source": [
    "med_hist_16_dum = pd.get_dummies(train_df['Medical_History_16'])\n",
    "train_df['Medical_History_16'].value_counts()\n",
    "med_hist_16_dum = med_hist_16_dum.drop(2, axis=1)"
   ]
  },
  {
   "cell_type": "code",
   "execution_count": 67,
   "metadata": {
    "collapsed": false
   },
   "outputs": [],
   "source": [
    "med_hist_17_dum = pd.get_dummies(train_df['Medical_History_17'])\n",
    "train_df['Medical_History_17'].value_counts()\n",
    "med_hist_17_dum = med_hist_17_dum.drop(1, axis=1)"
   ]
  },
  {
   "cell_type": "code",
   "execution_count": 68,
   "metadata": {
    "collapsed": false
   },
   "outputs": [],
   "source": [
    "med_hist_18_dum = pd.get_dummies(train_df['Medical_History_18'])\n",
    "train_df['Medical_History_18'].value_counts()\n",
    "med_hist_18_dum = med_hist_18_dum.drop(3, axis=1)"
   ]
  },
  {
   "cell_type": "code",
   "execution_count": 69,
   "metadata": {
    "collapsed": false
   },
   "outputs": [],
   "source": [
    "med_hist_19_dum = pd.get_dummies(train_df['Medical_History_19'])\n",
    "train_df['Medical_History_19'].value_counts()\n",
    "med_hist_19_dum = med_hist_19_dum.drop(3, axis=1)"
   ]
  },
  {
   "cell_type": "code",
   "execution_count": 70,
   "metadata": {
    "collapsed": false
   },
   "outputs": [],
   "source": [
    "med_hist_20_dum = pd.get_dummies(train_df['Medical_History_20'])\n",
    "train_df['Medical_History_20'].value_counts()\n",
    "med_hist_20_dum = med_hist_20_dum.drop(3, axis=1)"
   ]
  },
  {
   "cell_type": "code",
   "execution_count": 71,
   "metadata": {
    "collapsed": false
   },
   "outputs": [],
   "source": [
    "med_hist_21_dum = pd.get_dummies(train_df['Medical_History_21'])\n",
    "train_df['Medical_History_21'].value_counts()\n",
    "med_hist_21_dum = med_hist_21_dum.drop(3, axis=1)"
   ]
  },
  {
   "cell_type": "code",
   "execution_count": 72,
   "metadata": {
    "collapsed": false
   },
   "outputs": [],
   "source": [
    "med_hist_22_dum = pd.get_dummies(train_df['Medical_History_22'])\n",
    "train_df['Medical_History_22'].value_counts()\n",
    "med_hist_22_dum = med_hist_22_dum.drop(1, axis=1)"
   ]
  },
  {
   "cell_type": "code",
   "execution_count": 73,
   "metadata": {
    "collapsed": false
   },
   "outputs": [],
   "source": [
    "med_hist_23_dum = pd.get_dummies(train_df['Medical_History_23'])\n",
    "train_df['Medical_History_23'].value_counts()\n",
    "med_hist_23_dum = med_hist_23_dum.drop(2, axis=1)"
   ]
  },
  {
   "cell_type": "code",
   "execution_count": 74,
   "metadata": {
    "collapsed": false
   },
   "outputs": [],
   "source": [
    "med_hist_24_dum = pd.get_dummies(train_df['Medical_History_24'])\n",
    "train_df['Medical_History_24'].value_counts()\n",
    "med_hist_24_dum = med_hist_24_dum.drop(98, axis=1)"
   ]
  },
  {
   "cell_type": "code",
   "execution_count": 75,
   "metadata": {
    "collapsed": false
   },
   "outputs": [],
   "source": [
    "med_hist_25_dum = pd.get_dummies(train_df['Medical_History_25'])\n",
    "train_df['Medical_History_25'].value_counts()\n",
    "med_hist_25_dum = med_hist_25_dum.drop(3, axis=1)"
   ]
  },
  {
   "cell_type": "code",
   "execution_count": 76,
   "metadata": {
    "collapsed": false
   },
   "outputs": [],
   "source": [
    "med_hist_26_dum = pd.get_dummies(train_df['Medical_History_26'])\n",
    "train_df['Medical_History_26'].value_counts()\n",
    "med_hist_26_dum = med_hist_26_dum.drop(1, axis=1)"
   ]
  },
  {
   "cell_type": "code",
   "execution_count": 77,
   "metadata": {
    "collapsed": false
   },
   "outputs": [],
   "source": [
    "med_hist_27_dum = pd.get_dummies(train_df['Medical_History_27'])\n",
    "train_df['Medical_History_27'].value_counts()\n",
    "med_hist_27_dum = med_hist_27_dum.drop(2, axis=1)"
   ]
  },
  {
   "cell_type": "code",
   "execution_count": 78,
   "metadata": {
    "collapsed": false
   },
   "outputs": [],
   "source": [
    "med_hist_28_dum = pd.get_dummies(train_df['Medical_History_28'])\n",
    "train_df['Medical_History_28'].value_counts()\n",
    "med_hist_28_dum = med_hist_28_dum.drop(3, axis=1)"
   ]
  },
  {
   "cell_type": "code",
   "execution_count": 79,
   "metadata": {
    "collapsed": false
   },
   "outputs": [],
   "source": [
    "med_hist_29_dum = pd.get_dummies(train_df['Medical_History_29'])\n",
    "train_df['Medical_History_29'].value_counts()\n",
    "med_hist_29_dum = med_hist_29_dum.drop(2, axis=1)"
   ]
  },
  {
   "cell_type": "code",
   "execution_count": 80,
   "metadata": {
    "collapsed": false
   },
   "outputs": [],
   "source": [
    "med_hist_30_dum = pd.get_dummies(train_df['Medical_History_30'])\n",
    "train_df['Medical_History_30'].value_counts()\n",
    "med_hist_30_dum = med_hist_30_dum.drop(1, axis=1)"
   ]
  },
  {
   "cell_type": "code",
   "execution_count": 81,
   "metadata": {
    "collapsed": false
   },
   "outputs": [],
   "source": [
    "med_hist_31_dum = pd.get_dummies(train_df['Medical_History_31'])\n",
    "train_df['Medical_History_31'].value_counts()\n",
    "med_hist_31_dum = med_hist_31_dum.drop(2, axis=1)"
   ]
  },
  {
   "cell_type": "code",
   "execution_count": 82,
   "metadata": {
    "collapsed": false
   },
   "outputs": [],
   "source": [
    "med_hist_32_dum = pd.get_dummies(train_df['Medical_History_32'])\n",
    "train_df['Medical_History_32'].value_counts()\n",
    "med_hist_32_dum = med_hist_32_dum.drop(56, axis=1)"
   ]
  },
  {
   "cell_type": "code",
   "execution_count": 83,
   "metadata": {
    "collapsed": false
   },
   "outputs": [],
   "source": [
    "med_hist_33_dum = pd.get_dummies(train_df['Medical_History_33'])\n",
    "train_df['Medical_History_33'].value_counts()\n",
    "med_hist_33_dum = med_hist_33_dum.drop(1, axis=1)"
   ]
  },
  {
   "cell_type": "code",
   "execution_count": 84,
   "metadata": {
    "collapsed": false
   },
   "outputs": [],
   "source": [
    "med_hist_34_dum = pd.get_dummies(train_df['Medical_History_34'])\n",
    "train_df['Medical_History_34'].value_counts()\n",
    "med_hist_34_dum = med_hist_34_dum.drop(2, axis=1)"
   ]
  },
  {
   "cell_type": "code",
   "execution_count": 85,
   "metadata": {
    "collapsed": false
   },
   "outputs": [],
   "source": [
    "med_hist_35_dum = pd.get_dummies(train_df['Medical_History_35'])\n",
    "train_df['Medical_History_35'].value_counts()\n",
    "med_hist_35_dum = med_hist_35_dum.drop(2, axis=1)"
   ]
  },
  {
   "cell_type": "code",
   "execution_count": 86,
   "metadata": {
    "collapsed": false
   },
   "outputs": [],
   "source": [
    "med_hist_36_dum = pd.get_dummies(train_df['Medical_History_36'])\n",
    "train_df['Medical_History_36'].value_counts()\n",
    "med_hist_36_dum = med_hist_36_dum.drop(1, axis=1)"
   ]
  },
  {
   "cell_type": "code",
   "execution_count": 87,
   "metadata": {
    "collapsed": false
   },
   "outputs": [],
   "source": [
    "med_hist_37_dum = pd.get_dummies(train_df['Medical_History_37'])\n",
    "train_df['Medical_History_37'].value_counts()\n",
    "med_hist_37_dum = med_hist_37_dum.drop(3, axis=1)"
   ]
  },
  {
   "cell_type": "code",
   "execution_count": 88,
   "metadata": {
    "collapsed": false
   },
   "outputs": [],
   "source": [
    "med_hist_38_dum = pd.get_dummies(train_df['Medical_History_38'])\n",
    "train_df['Medical_History_38'].value_counts()\n",
    "med_hist_38_dum = med_hist_38_dum.drop(2, axis=1)"
   ]
  },
  {
   "cell_type": "code",
   "execution_count": 89,
   "metadata": {
    "collapsed": false
   },
   "outputs": [],
   "source": [
    "med_hist_39_dum = pd.get_dummies(train_df['Medical_History_39'])\n",
    "train_df['Medical_History_39'].value_counts()\n",
    "med_hist_39_dum = med_hist_39_dum.drop(2, axis=1)"
   ]
  },
  {
   "cell_type": "code",
   "execution_count": 90,
   "metadata": {
    "collapsed": false
   },
   "outputs": [],
   "source": [
    "med_hist_40_dum = pd.get_dummies(train_df['Medical_History_40'])\n",
    "train_df['Medical_History_40'].value_counts()\n",
    "med_hist_40_dum = med_hist_40_dum.drop(2, axis=1)"
   ]
  },
  {
   "cell_type": "code",
   "execution_count": 91,
   "metadata": {
    "collapsed": false
   },
   "outputs": [],
   "source": [
    "med_hist_41_dum = pd.get_dummies(train_df['Medical_History_41'])\n",
    "train_df['Medical_History_41'].value_counts()\n",
    "med_hist_41_dum = med_hist_41_dum.drop(2, axis=1)"
   ]
  },
  {
   "cell_type": "code",
   "execution_count": 92,
   "metadata": {
    "collapsed": false
   },
   "outputs": [
    {
     "data": {
      "text/plain": [
       "(59381, 1476)"
      ]
     },
     "execution_count": 92,
     "metadata": {},
     "output_type": "execute_result"
    }
   ],
   "source": [
    "med_hist_dummies = pd.concat([med_hist_1_dum, med_hist_2_dum, med_hist_3_dum, med_hist_4_dum, med_hist_5_dum,\n",
    "                             med_hist_6_dum, med_hist_7_dum, med_hist_8_dum, med_hist_9_dum, med_hist_10_dum,\n",
    "                             med_hist_11_dum, med_hist_12_dum, med_hist_13_dum, med_hist_14_dum, med_hist_15_dum,\n",
    "                             med_hist_16_dum, med_hist_17_dum, med_hist_18_dum, med_hist_19_dum, med_hist_20_dum,\n",
    "                             med_hist_21_dum, med_hist_22_dum, med_hist_23_dum, med_hist_24_dum, med_hist_25_dum,\n",
    "                             med_hist_26_dum, med_hist_27_dum, med_hist_28_dum, med_hist_29_dum, med_hist_30_dum,                             \n",
    "                             med_hist_31_dum, med_hist_32_dum, med_hist_33_dum, med_hist_34_dum, med_hist_35_dum,\n",
    "                             med_hist_36_dum, med_hist_37_dum, med_hist_38_dum, med_hist_39_dum, med_hist_40_dum,                             \n",
    "                             med_hist_41_dum], axis = 1)\n",
    "med_hist_dummies.shape"
   ]
  },
  {
   "cell_type": "code",
   "execution_count": 93,
   "metadata": {
    "collapsed": false
   },
   "outputs": [
    {
     "data": {
      "text/plain": [
       "(59381, 48)"
      ]
     },
     "execution_count": 93,
     "metadata": {},
     "output_type": "execute_result"
    }
   ],
   "source": [
    "med_key_dummies = train_df[['Medical_Keyword_1','Medical_Keyword_2','Medical_Keyword_3','Medical_Keyword_4','Medical_Keyword_5',\n",
    "                'Medical_Keyword_6','Medical_Keyword_7','Medical_Keyword_8','Medical_Keyword_9','Medical_Keyword_10',\n",
    "                'Medical_Keyword_11','Medical_Keyword_12','Medical_Keyword_13','Medical_Keyword_14','Medical_Keyword_15',\n",
    "                'Medical_Keyword_16','Medical_Keyword_17','Medical_Keyword_18','Medical_Keyword_19','Medical_Keyword_20',\n",
    "                'Medical_Keyword_21','Medical_Keyword_22','Medical_Keyword_23','Medical_Keyword_24','Medical_Keyword_25',\n",
    "                'Medical_Keyword_26','Medical_Keyword_27','Medical_Keyword_28','Medical_Keyword_29','Medical_Keyword_30',                            \n",
    "                'Medical_Keyword_31','Medical_Keyword_32','Medical_Keyword_33','Medical_Keyword_34','Medical_Keyword_35',\n",
    "                'Medical_Keyword_36','Medical_Keyword_37','Medical_Keyword_38','Medical_Keyword_39','Medical_Keyword_40',                            \n",
    "                'Medical_Keyword_41','Medical_Keyword_42','Medical_Keyword_43','Medical_Keyword_44','Medical_Keyword_45',\n",
    "                'Medical_Keyword_46','Medical_Keyword_47','Medical_Keyword_48']]\n",
    "med_key_dummies.shape"
   ]
  },
  {
   "cell_type": "code",
   "execution_count": 94,
   "metadata": {
    "collapsed": true
   },
   "outputs": [],
   "source": [
    "X_full = pd.concat([prod_info_dummies, physical_info, emp_info_dummies, ins_info_dummies, ins_hist_dummies, fam_hist_dummies, \n",
    "                    med_hist_dummies, med_key_dummies], axis = 1)\n",
    "Y_full = train_df['Response']"
   ]
  },
  {
   "cell_type": "code",
   "execution_count": 95,
   "metadata": {
    "collapsed": false
   },
   "outputs": [],
   "source": [
    "X_full.fillna(0, inplace=True)\n",
    "Y_full = np.ravel(Y_full)"
   ]
  },
  {
   "cell_type": "markdown",
   "metadata": {
    "collapsed": false
   },
   "source": [
    "# Now load the the test data and perform the same transformation."
   ]
  },
  {
   "cell_type": "code",
   "execution_count": 96,
   "metadata": {
    "collapsed": false
   },
   "outputs": [],
   "source": [
    "test_df = pd.read_csv('prudential_test.csv')"
   ]
  },
  {
   "cell_type": "code",
   "execution_count": 97,
   "metadata": {
    "collapsed": false
   },
   "outputs": [
    {
     "data": {
      "text/html": [
       "<div>\n",
       "<table border=\"1\" class=\"dataframe\">\n",
       "  <thead>\n",
       "    <tr style=\"text-align: right;\">\n",
       "      <th></th>\n",
       "      <th>Id</th>\n",
       "      <th>Product_Info_1</th>\n",
       "      <th>Product_Info_2</th>\n",
       "      <th>Product_Info_3</th>\n",
       "      <th>Product_Info_4</th>\n",
       "      <th>Product_Info_5</th>\n",
       "      <th>Product_Info_6</th>\n",
       "      <th>Product_Info_7</th>\n",
       "      <th>Ins_Age</th>\n",
       "      <th>Ht</th>\n",
       "      <th>...</th>\n",
       "      <th>Medical_Keyword_39</th>\n",
       "      <th>Medical_Keyword_40</th>\n",
       "      <th>Medical_Keyword_41</th>\n",
       "      <th>Medical_Keyword_42</th>\n",
       "      <th>Medical_Keyword_43</th>\n",
       "      <th>Medical_Keyword_44</th>\n",
       "      <th>Medical_Keyword_45</th>\n",
       "      <th>Medical_Keyword_46</th>\n",
       "      <th>Medical_Keyword_47</th>\n",
       "      <th>Medical_Keyword_48</th>\n",
       "    </tr>\n",
       "  </thead>\n",
       "  <tbody>\n",
       "    <tr>\n",
       "      <th>0</th>\n",
       "      <td>1</td>\n",
       "      <td>1</td>\n",
       "      <td>D3</td>\n",
       "      <td>26</td>\n",
       "      <td>0.487179</td>\n",
       "      <td>2</td>\n",
       "      <td>3</td>\n",
       "      <td>1</td>\n",
       "      <td>0.611940</td>\n",
       "      <td>0.781818</td>\n",
       "      <td>...</td>\n",
       "      <td>0</td>\n",
       "      <td>0</td>\n",
       "      <td>0</td>\n",
       "      <td>0</td>\n",
       "      <td>0</td>\n",
       "      <td>0</td>\n",
       "      <td>0</td>\n",
       "      <td>0</td>\n",
       "      <td>0</td>\n",
       "      <td>0</td>\n",
       "    </tr>\n",
       "    <tr>\n",
       "      <th>1</th>\n",
       "      <td>3</td>\n",
       "      <td>1</td>\n",
       "      <td>A2</td>\n",
       "      <td>26</td>\n",
       "      <td>0.076923</td>\n",
       "      <td>2</td>\n",
       "      <td>3</td>\n",
       "      <td>1</td>\n",
       "      <td>0.626866</td>\n",
       "      <td>0.727273</td>\n",
       "      <td>...</td>\n",
       "      <td>0</td>\n",
       "      <td>0</td>\n",
       "      <td>0</td>\n",
       "      <td>0</td>\n",
       "      <td>0</td>\n",
       "      <td>0</td>\n",
       "      <td>0</td>\n",
       "      <td>0</td>\n",
       "      <td>0</td>\n",
       "      <td>0</td>\n",
       "    </tr>\n",
       "    <tr>\n",
       "      <th>2</th>\n",
       "      <td>4</td>\n",
       "      <td>1</td>\n",
       "      <td>D3</td>\n",
       "      <td>26</td>\n",
       "      <td>0.144667</td>\n",
       "      <td>2</td>\n",
       "      <td>3</td>\n",
       "      <td>1</td>\n",
       "      <td>0.582090</td>\n",
       "      <td>0.709091</td>\n",
       "      <td>...</td>\n",
       "      <td>0</td>\n",
       "      <td>0</td>\n",
       "      <td>0</td>\n",
       "      <td>0</td>\n",
       "      <td>0</td>\n",
       "      <td>0</td>\n",
       "      <td>0</td>\n",
       "      <td>0</td>\n",
       "      <td>0</td>\n",
       "      <td>0</td>\n",
       "    </tr>\n",
       "    <tr>\n",
       "      <th>3</th>\n",
       "      <td>9</td>\n",
       "      <td>1</td>\n",
       "      <td>A1</td>\n",
       "      <td>26</td>\n",
       "      <td>0.151709</td>\n",
       "      <td>2</td>\n",
       "      <td>1</td>\n",
       "      <td>1</td>\n",
       "      <td>0.522388</td>\n",
       "      <td>0.654545</td>\n",
       "      <td>...</td>\n",
       "      <td>0</td>\n",
       "      <td>0</td>\n",
       "      <td>0</td>\n",
       "      <td>0</td>\n",
       "      <td>0</td>\n",
       "      <td>0</td>\n",
       "      <td>0</td>\n",
       "      <td>0</td>\n",
       "      <td>1</td>\n",
       "      <td>1</td>\n",
       "    </tr>\n",
       "    <tr>\n",
       "      <th>4</th>\n",
       "      <td>12</td>\n",
       "      <td>1</td>\n",
       "      <td>A1</td>\n",
       "      <td>26</td>\n",
       "      <td>0.076923</td>\n",
       "      <td>2</td>\n",
       "      <td>3</td>\n",
       "      <td>1</td>\n",
       "      <td>0.298507</td>\n",
       "      <td>0.672727</td>\n",
       "      <td>...</td>\n",
       "      <td>0</td>\n",
       "      <td>0</td>\n",
       "      <td>0</td>\n",
       "      <td>0</td>\n",
       "      <td>0</td>\n",
       "      <td>0</td>\n",
       "      <td>0</td>\n",
       "      <td>0</td>\n",
       "      <td>0</td>\n",
       "      <td>0</td>\n",
       "    </tr>\n",
       "  </tbody>\n",
       "</table>\n",
       "<p>5 rows × 127 columns</p>\n",
       "</div>"
      ],
      "text/plain": [
       "   Id  Product_Info_1 Product_Info_2  Product_Info_3  Product_Info_4  \\\n",
       "0   1               1             D3              26        0.487179   \n",
       "1   3               1             A2              26        0.076923   \n",
       "2   4               1             D3              26        0.144667   \n",
       "3   9               1             A1              26        0.151709   \n",
       "4  12               1             A1              26        0.076923   \n",
       "\n",
       "   Product_Info_5  Product_Info_6  Product_Info_7   Ins_Age        Ht  \\\n",
       "0               2               3               1  0.611940  0.781818   \n",
       "1               2               3               1  0.626866  0.727273   \n",
       "2               2               3               1  0.582090  0.709091   \n",
       "3               2               1               1  0.522388  0.654545   \n",
       "4               2               3               1  0.298507  0.672727   \n",
       "\n",
       "          ...          Medical_Keyword_39  Medical_Keyword_40  \\\n",
       "0         ...                           0                   0   \n",
       "1         ...                           0                   0   \n",
       "2         ...                           0                   0   \n",
       "3         ...                           0                   0   \n",
       "4         ...                           0                   0   \n",
       "\n",
       "   Medical_Keyword_41  Medical_Keyword_42  Medical_Keyword_43  \\\n",
       "0                   0                   0                   0   \n",
       "1                   0                   0                   0   \n",
       "2                   0                   0                   0   \n",
       "3                   0                   0                   0   \n",
       "4                   0                   0                   0   \n",
       "\n",
       "   Medical_Keyword_44  Medical_Keyword_45  Medical_Keyword_46  \\\n",
       "0                   0                   0                   0   \n",
       "1                   0                   0                   0   \n",
       "2                   0                   0                   0   \n",
       "3                   0                   0                   0   \n",
       "4                   0                   0                   0   \n",
       "\n",
       "   Medical_Keyword_47  Medical_Keyword_48  \n",
       "0                   0                   0  \n",
       "1                   0                   0  \n",
       "2                   0                   0  \n",
       "3                   1                   1  \n",
       "4                   0                   0  \n",
       "\n",
       "[5 rows x 127 columns]"
      ]
     },
     "execution_count": 97,
     "metadata": {},
     "output_type": "execute_result"
    }
   ],
   "source": [
    "test_df.head()"
   ]
  },
  {
   "cell_type": "code",
   "execution_count": 98,
   "metadata": {
    "collapsed": false
   },
   "outputs": [
    {
     "data": {
      "text/plain": [
       "(19765, 127)"
      ]
     },
     "execution_count": 98,
     "metadata": {},
     "output_type": "execute_result"
    }
   ],
   "source": [
    "test_df.shape"
   ]
  },
  {
   "cell_type": "code",
   "execution_count": 99,
   "metadata": {
    "collapsed": false
   },
   "outputs": [
    {
     "data": {
      "text/plain": [
       "(19765, 1)"
      ]
     },
     "execution_count": 99,
     "metadata": {},
     "output_type": "execute_result"
    }
   ],
   "source": [
    "test_prod_info_1_dum = pd.get_dummies(test_df['Product_Info_1'])\n",
    "temp = pd.get_dummies(train_df['Product_Info_1'])\n",
    "test_df['Product_Info_1'].value_counts()\n",
    "test_prod_info_1_dum = test_prod_info_1_dum.reindex(columns = temp.columns, fill_value=0)\n",
    "test_prod_info_1_dum = test_prod_info_1_dum.drop(1, axis=1)\n",
    "test_prod_info_1_dum.shape"
   ]
  },
  {
   "cell_type": "code",
   "execution_count": 100,
   "metadata": {
    "collapsed": false
   },
   "outputs": [],
   "source": [
    "test_prod_info_2_dum = pd.get_dummies(test_df['Product_Info_2'])\n",
    "temp = pd.get_dummies(train_df['Product_Info_2'])\n",
    "test_prod_info_2_dum = test_prod_info_2_dum.reindex(columns = temp.columns, fill_value=0)\n",
    "test_prod_info_2_dum = test_prod_info_2_dum.drop('A1', axis=1)\n",
    "#prod_info_2_dum.shape"
   ]
  },
  {
   "cell_type": "code",
   "execution_count": 101,
   "metadata": {
    "collapsed": false
   },
   "outputs": [],
   "source": [
    "test_prod_info_3_dum = pd.get_dummies(test_df['Product_Info_3'])\n",
    "temp = pd.get_dummies(train_df['Product_Info_3'])\n",
    "test_prod_info_3_dum = test_prod_info_3_dum.reindex(columns = temp.columns, fill_value=0)\n",
    "test_prod_info_3_dum = test_prod_info_3_dum.drop(1, axis=1)\n",
    "#test_prod_info_3_dum.shape"
   ]
  },
  {
   "cell_type": "code",
   "execution_count": 102,
   "metadata": {
    "collapsed": false
   },
   "outputs": [
    {
     "data": {
      "text/plain": [
       "(59381L,)"
      ]
     },
     "execution_count": 102,
     "metadata": {},
     "output_type": "execute_result"
    }
   ],
   "source": [
    "test_prod_info_4_dum = test_df['Product_Info_4']\n",
    "prod_info_4_dum.shape"
   ]
  },
  {
   "cell_type": "code",
   "execution_count": 103,
   "metadata": {
    "collapsed": false
   },
   "outputs": [
    {
     "data": {
      "text/plain": [
       "(59381, 1)"
      ]
     },
     "execution_count": 103,
     "metadata": {},
     "output_type": "execute_result"
    }
   ],
   "source": [
    "test_prod_info_5_dum = pd.get_dummies(test_df['Product_Info_5'])\n",
    "temp = pd.get_dummies(train_df['Product_Info_5'])\n",
    "test_prod_info_5_dum = test_prod_info_5_dum.reindex(columns = temp.columns, fill_value=0)\n",
    "test_prod_info_5_dum = test_prod_info_5_dum.drop(3, axis=1)\n",
    "prod_info_5_dum.shape"
   ]
  },
  {
   "cell_type": "code",
   "execution_count": 104,
   "metadata": {
    "collapsed": false
   },
   "outputs": [
    {
     "data": {
      "text/plain": [
       "(59381, 1)"
      ]
     },
     "execution_count": 104,
     "metadata": {},
     "output_type": "execute_result"
    }
   ],
   "source": [
    "test_prod_info_6_dum = pd.get_dummies(test_df['Product_Info_6'])\n",
    "temp = pd.get_dummies(train_df['Product_Info_6'])\n",
    "test_prod_info_6_dum = test_prod_info_6_dum.reindex(columns = temp.columns, fill_value=0)\n",
    "test_prod_info_6_dum = test_prod_info_6_dum.drop(1, axis=1)\n",
    "prod_info_6_dum.shape"
   ]
  },
  {
   "cell_type": "code",
   "execution_count": 105,
   "metadata": {
    "collapsed": false
   },
   "outputs": [
    {
     "data": {
      "text/plain": [
       "(19765, 2)"
      ]
     },
     "execution_count": 105,
     "metadata": {},
     "output_type": "execute_result"
    }
   ],
   "source": [
    "test_prod_info_7_dum = pd.get_dummies(test_df['Product_Info_7'])\n",
    "temp = pd.get_dummies(train_df['Product_Info_7'])\n",
    "test_prod_info_7_dum = test_prod_info_7_dum.reindex(columns = temp.columns, fill_value=0)\n",
    "test_prod_info_7_dum = test_prod_info_7_dum.drop(2, axis=1)\n",
    "test_prod_info_7_dum.shape"
   ]
  },
  {
   "cell_type": "code",
   "execution_count": 106,
   "metadata": {
    "collapsed": false
   },
   "outputs": [
    {
     "data": {
      "text/plain": [
       "(19765, 57)"
      ]
     },
     "execution_count": 106,
     "metadata": {},
     "output_type": "execute_result"
    }
   ],
   "source": [
    "test_prod_info_dummies = pd.concat([test_prod_info_1_dum, test_prod_info_2_dum, test_prod_info_3_dum, test_prod_info_4_dum,\n",
    "                              test_prod_info_5_dum, test_prod_info_6_dum, test_prod_info_7_dum], axis = 1)\n",
    "test_prod_info_dummies.shape"
   ]
  },
  {
   "cell_type": "code",
   "execution_count": 107,
   "metadata": {
    "collapsed": true
   },
   "outputs": [],
   "source": [
    "test_physical_info = test_df[['Ins_Age','Ht','Wt','BMI']]"
   ]
  },
  {
   "cell_type": "code",
   "execution_count": 108,
   "metadata": {
    "collapsed": true
   },
   "outputs": [],
   "source": [
    "test_emp_info_1_dum = test_df['Employment_Info_1']"
   ]
  },
  {
   "cell_type": "code",
   "execution_count": 109,
   "metadata": {
    "collapsed": false
   },
   "outputs": [
    {
     "data": {
      "text/plain": [
       "(59381, 35)"
      ]
     },
     "execution_count": 109,
     "metadata": {},
     "output_type": "execute_result"
    }
   ],
   "source": [
    "test_emp_info_2_dum = pd.get_dummies(test_df['Employment_Info_2'])\n",
    "temp = pd.get_dummies(train_df['Employment_Info_2'])\n",
    "test_emp_info_2_dum = test_emp_info_2_dum.reindex(columns = temp.columns, fill_value=0)\n",
    "test_emp_info_2_dum = test_emp_info_2_dum.drop(31, axis=1)\n",
    "emp_info_2_dum.shape"
   ]
  },
  {
   "cell_type": "code",
   "execution_count": 110,
   "metadata": {
    "collapsed": false
   },
   "outputs": [
    {
     "data": {
      "text/plain": [
       "(19765, 1)"
      ]
     },
     "execution_count": 110,
     "metadata": {},
     "output_type": "execute_result"
    }
   ],
   "source": [
    "test_emp_info_3_dum = pd.get_dummies(test_df['Employment_Info_3'])\n",
    "temp = pd.get_dummies(train_df['Employment_Info_3'])\n",
    "test_emp_info_3_dum = test_emp_info_3_dum.reindex(columns = temp.columns, fill_value=0)\n",
    "test_emp_info_3_dum = test_emp_info_3_dum.drop(3, axis=1)\n",
    "test_emp_info_3_dum.shape"
   ]
  },
  {
   "cell_type": "code",
   "execution_count": 111,
   "metadata": {
    "collapsed": true
   },
   "outputs": [],
   "source": [
    "test_emp_info_4_dum = test_df['Employment_Info_4']"
   ]
  },
  {
   "cell_type": "code",
   "execution_count": 112,
   "metadata": {
    "collapsed": false
   },
   "outputs": [
    {
     "data": {
      "text/plain": [
       "(19765, 1)"
      ]
     },
     "execution_count": 112,
     "metadata": {},
     "output_type": "execute_result"
    }
   ],
   "source": [
    "test_emp_info_5_dum = pd.get_dummies(test_df['Employment_Info_5'])\n",
    "temp = pd.get_dummies(train_df['Employment_Info_5'])\n",
    "test_emp_info_5_dum = test_emp_info_5_dum.reindex(columns = temp.columns, fill_value=0)\n",
    "test_emp_info_5_dum = test_emp_info_5_dum.drop(3, axis=1)\n",
    "test_emp_info_5_dum.shape"
   ]
  },
  {
   "cell_type": "code",
   "execution_count": 113,
   "metadata": {
    "collapsed": true
   },
   "outputs": [],
   "source": [
    "test_emp_info_6_dum = test_df['Employment_Info_6']"
   ]
  },
  {
   "cell_type": "code",
   "execution_count": 114,
   "metadata": {
    "collapsed": false
   },
   "outputs": [
    {
     "data": {
      "text/plain": [
       "(19765, 40)"
      ]
     },
     "execution_count": 114,
     "metadata": {},
     "output_type": "execute_result"
    }
   ],
   "source": [
    "test_emp_info_dummies = pd.concat([test_emp_info_1_dum, test_emp_info_2_dum, test_emp_info_3_dum, test_emp_info_4_dum,\n",
    "                              test_emp_info_5_dum, test_emp_info_6_dum], axis = 1)\n",
    "test_emp_info_dummies.shape"
   ]
  },
  {
   "cell_type": "code",
   "execution_count": 115,
   "metadata": {
    "collapsed": false
   },
   "outputs": [
    {
     "data": {
      "text/plain": [
       "(59381, 2)"
      ]
     },
     "execution_count": 115,
     "metadata": {},
     "output_type": "execute_result"
    }
   ],
   "source": [
    "test_ins_info_1_dum = pd.get_dummies(test_df['InsuredInfo_1'])\n",
    "temp = pd.get_dummies(train_df['InsuredInfo_1'])\n",
    "test_ins_info_1_dum = test_ins_info_1_dum.reindex(columns = temp.columns, fill_value=0)\n",
    "test_ins_info_1_dum = test_ins_info_1_dum.drop(3, axis=1)\n",
    "ins_info_1_dum.shape"
   ]
  },
  {
   "cell_type": "code",
   "execution_count": 116,
   "metadata": {
    "collapsed": false
   },
   "outputs": [
    {
     "data": {
      "text/plain": [
       "(59381, 1)"
      ]
     },
     "execution_count": 116,
     "metadata": {},
     "output_type": "execute_result"
    }
   ],
   "source": [
    "test_ins_info_2_dum = pd.get_dummies(test_df['InsuredInfo_2'])\n",
    "temp = pd.get_dummies(train_df['InsuredInfo_2'])\n",
    "test_ins_info_2_dum = test_ins_info_2_dum.reindex(columns = temp.columns, fill_value=0)\n",
    "test_ins_info_2_dum = test_ins_info_2_dum.drop(3, axis=1)\n",
    "ins_info_2_dum.shape"
   ]
  },
  {
   "cell_type": "code",
   "execution_count": 117,
   "metadata": {
    "collapsed": false
   },
   "outputs": [
    {
     "data": {
      "text/plain": [
       "(19765, 10)"
      ]
     },
     "execution_count": 117,
     "metadata": {},
     "output_type": "execute_result"
    }
   ],
   "source": [
    "test_ins_info_3_dum = pd.get_dummies(test_df['InsuredInfo_3'])\n",
    "temp = pd.get_dummies(train_df['InsuredInfo_3'])\n",
    "test_ins_info_3_dum = test_ins_info_3_dum.reindex(columns = temp.columns, fill_value=0)\n",
    "test_ins_info_3_dum = test_ins_info_3_dum.drop(9, axis=1)\n",
    "test_ins_info_3_dum.shape"
   ]
  },
  {
   "cell_type": "code",
   "execution_count": 118,
   "metadata": {
    "collapsed": false
   },
   "outputs": [
    {
     "data": {
      "text/plain": [
       "(59381, 1)"
      ]
     },
     "execution_count": 118,
     "metadata": {},
     "output_type": "execute_result"
    }
   ],
   "source": [
    "test_ins_info_4_dum = pd.get_dummies(test_df['InsuredInfo_4'])\n",
    "temp = pd.get_dummies(train_df['InsuredInfo_4'])\n",
    "test_ins_info_4_dum = test_ins_info_4_dum.reindex(columns = temp.columns, fill_value=0)\n",
    "test_ins_info_4_dum = test_ins_info_4_dum.drop(2, axis=1)\n",
    "ins_info_4_dum.shape"
   ]
  },
  {
   "cell_type": "code",
   "execution_count": 119,
   "metadata": {
    "collapsed": false
   },
   "outputs": [
    {
     "data": {
      "text/plain": [
       "(59381, 1)"
      ]
     },
     "execution_count": 119,
     "metadata": {},
     "output_type": "execute_result"
    }
   ],
   "source": [
    "test_ins_info_5_dum = pd.get_dummies(test_df['InsuredInfo_5'])\n",
    "temp = pd.get_dummies(train_df['InsuredInfo_5'])\n",
    "test_ins_info_5_dum = test_ins_info_5_dum.reindex(columns = temp.columns, fill_value=0)\n",
    "test_ins_info_5_dum = test_ins_info_5_dum.drop(3, axis=1)\n",
    "ins_info_5_dum.shape"
   ]
  },
  {
   "cell_type": "code",
   "execution_count": 120,
   "metadata": {
    "collapsed": false
   },
   "outputs": [
    {
     "data": {
      "text/plain": [
       "(59381, 1)"
      ]
     },
     "execution_count": 120,
     "metadata": {},
     "output_type": "execute_result"
    }
   ],
   "source": [
    "test_ins_info_6_dum = pd.get_dummies(test_df['InsuredInfo_6'])\n",
    "temp = pd.get_dummies(train_df['InsuredInfo_6'])\n",
    "test_ins_info_6_dum = test_ins_info_6_dum.reindex(columns = temp.columns, fill_value=0)\n",
    "test_ins_info_6_dum = test_ins_info_6_dum.drop(2, axis=1)\n",
    "ins_info_6_dum.shape"
   ]
  },
  {
   "cell_type": "code",
   "execution_count": 121,
   "metadata": {
    "collapsed": false
   },
   "outputs": [
    {
     "data": {
      "text/plain": [
       "(59381, 1)"
      ]
     },
     "execution_count": 121,
     "metadata": {},
     "output_type": "execute_result"
    }
   ],
   "source": [
    "test_ins_info_7_dum = pd.get_dummies(test_df['InsuredInfo_7'])\n",
    "temp = pd.get_dummies(train_df['InsuredInfo_7'])\n",
    "test_ins_info_7_dum = test_ins_info_7_dum.reindex(columns = temp.columns, fill_value=0)\n",
    "test_ins_info_7_dum = test_ins_info_7_dum.drop(3, axis=1)\n",
    "ins_info_7_dum.shape"
   ]
  },
  {
   "cell_type": "code",
   "execution_count": 122,
   "metadata": {
    "collapsed": false
   },
   "outputs": [
    {
     "data": {
      "text/plain": [
       "(19765, 17)"
      ]
     },
     "execution_count": 122,
     "metadata": {},
     "output_type": "execute_result"
    }
   ],
   "source": [
    "test_ins_info_dummies = pd.concat([test_ins_info_1_dum, test_ins_info_2_dum, test_ins_info_3_dum, test_ins_info_4_dum,\n",
    "                              test_ins_info_5_dum, test_ins_info_6_dum, test_ins_info_7_dum], axis = 1)\n",
    "test_ins_info_dummies.shape"
   ]
  },
  {
   "cell_type": "code",
   "execution_count": 123,
   "metadata": {
    "collapsed": false
   },
   "outputs": [
    {
     "data": {
      "text/plain": [
       "(19765, 1)"
      ]
     },
     "execution_count": 123,
     "metadata": {},
     "output_type": "execute_result"
    }
   ],
   "source": [
    "test_ins_hist_1_dum = pd.get_dummies(test_df['Insurance_History_1'])\n",
    "temp = pd.get_dummies(train_df['Insurance_History_1'])\n",
    "test_ins_hist_1_dum = test_ins_hist_1_dum.reindex(columns = temp.columns, fill_value=0)\n",
    "test_ins_hist_1_dum = test_ins_hist_1_dum.drop(1, axis=1)\n",
    "test_ins_hist_1_dum.shape"
   ]
  },
  {
   "cell_type": "code",
   "execution_count": 124,
   "metadata": {
    "collapsed": false
   },
   "outputs": [
    {
     "data": {
      "text/plain": [
       "(19765, 2)"
      ]
     },
     "execution_count": 124,
     "metadata": {},
     "output_type": "execute_result"
    }
   ],
   "source": [
    "test_ins_hist_2_dum = pd.get_dummies(test_df['Insurance_History_2'])\n",
    "temp = pd.get_dummies(train_df['Insurance_History_2'])\n",
    "test_ins_hist_2_dum = test_ins_hist_2_dum.reindex(columns = temp.columns, fill_value=0)\n",
    "test_ins_hist_2_dum = test_ins_hist_2_dum.drop(2, axis=1)\n",
    "test_ins_hist_2_dum.shape"
   ]
  },
  {
   "cell_type": "code",
   "execution_count": 125,
   "metadata": {
    "collapsed": false
   },
   "outputs": [
    {
     "data": {
      "text/plain": [
       "(59381, 2)"
      ]
     },
     "execution_count": 125,
     "metadata": {},
     "output_type": "execute_result"
    }
   ],
   "source": [
    "test_ins_hist_3_dum = pd.get_dummies(test_df['Insurance_History_3'])\n",
    "temp = pd.get_dummies(train_df['Insurance_History_3'])\n",
    "test_ins_hist_3_dum = test_ins_hist_3_dum.reindex(columns = temp.columns, fill_value=0)\n",
    "test_ins_hist_3_dum = test_ins_hist_3_dum.drop(2, axis=1)\n",
    "ins_hist_3_dum.shape"
   ]
  },
  {
   "cell_type": "code",
   "execution_count": 126,
   "metadata": {
    "collapsed": false
   },
   "outputs": [
    {
     "data": {
      "text/plain": [
       "(59381, 2)"
      ]
     },
     "execution_count": 126,
     "metadata": {},
     "output_type": "execute_result"
    }
   ],
   "source": [
    "test_ins_hist_4_dum = pd.get_dummies(test_df['Insurance_History_4'])\n",
    "temp = pd.get_dummies(train_df['Insurance_History_4'])\n",
    "test_ins_hist_4_dum = test_ins_hist_4_dum.reindex(columns = temp.columns, fill_value=0)\n",
    "test_ins_hist_4_dum = test_ins_hist_4_dum.drop(2, axis=1)\n",
    "ins_hist_4_dum.shape"
   ]
  },
  {
   "cell_type": "code",
   "execution_count": 127,
   "metadata": {
    "collapsed": true
   },
   "outputs": [],
   "source": [
    "test_ins_hist_5_dum = test_df['Insurance_History_5']\n",
    "# No insurance history 6"
   ]
  },
  {
   "cell_type": "code",
   "execution_count": 128,
   "metadata": {
    "collapsed": false
   },
   "outputs": [
    {
     "data": {
      "text/plain": [
       "(59381, 2)"
      ]
     },
     "execution_count": 128,
     "metadata": {},
     "output_type": "execute_result"
    }
   ],
   "source": [
    "test_ins_hist_7_dum = pd.get_dummies(test_df['Insurance_History_7'])\n",
    "temp = pd.get_dummies(train_df['Insurance_History_7'])\n",
    "test_ins_hist_7_dum = test_ins_hist_7_dum.reindex(columns = temp.columns, fill_value=0)\n",
    "test_ins_hist_7_dum = test_ins_hist_7_dum.drop(2, axis=1)\n",
    "ins_hist_7_dum.shape"
   ]
  },
  {
   "cell_type": "code",
   "execution_count": 129,
   "metadata": {
    "collapsed": false
   },
   "outputs": [
    {
     "data": {
      "text/plain": [
       "(19765, 2)"
      ]
     },
     "execution_count": 129,
     "metadata": {},
     "output_type": "execute_result"
    }
   ],
   "source": [
    "test_ins_hist_8_dum = pd.get_dummies(test_df['Insurance_History_8'])\n",
    "temp = pd.get_dummies(train_df['Insurance_History_8'])\n",
    "test_ins_hist_8_dum = test_ins_hist_8_dum.reindex(columns = temp.columns, fill_value=0)\n",
    "test_ins_hist_8_dum = test_ins_hist_8_dum.drop(1, axis=1)\n",
    "test_ins_hist_8_dum.shape"
   ]
  },
  {
   "cell_type": "code",
   "execution_count": 130,
   "metadata": {
    "collapsed": false
   },
   "outputs": [
    {
     "data": {
      "text/plain": [
       "(19765, 2)"
      ]
     },
     "execution_count": 130,
     "metadata": {},
     "output_type": "execute_result"
    }
   ],
   "source": [
    "test_ins_hist_9_dum = pd.get_dummies(test_df['Insurance_History_9'])\n",
    "temp = pd.get_dummies(train_df['Insurance_History_9'])\n",
    "test_ins_hist_9_dum = test_ins_hist_9_dum.reindex(columns = temp.columns, fill_value=0)\n",
    "test_ins_hist_9_dum = test_ins_hist_9_dum.drop(1, axis=1)\n",
    "test_ins_hist_9_dum.shape"
   ]
  },
  {
   "cell_type": "code",
   "execution_count": 131,
   "metadata": {
    "collapsed": false
   },
   "outputs": [
    {
     "data": {
      "text/plain": [
       "(19765, 17)"
      ]
     },
     "execution_count": 131,
     "metadata": {},
     "output_type": "execute_result"
    }
   ],
   "source": [
    "test_ins_hist_dummies = pd.concat([test_ins_hist_1_dum, test_ins_hist_2_dum, test_ins_hist_3_dum, test_ins_hist_4_dum,\n",
    "                              test_ins_hist_5_dum, test_ins_hist_7_dum, test_ins_hist_8_dum, test_ins_hist_9_dum], axis = 1)\n",
    "test_ins_info_dummies.shape"
   ]
  },
  {
   "cell_type": "code",
   "execution_count": 132,
   "metadata": {
    "collapsed": false
   },
   "outputs": [
    {
     "data": {
      "text/plain": [
       "(19765, 2)"
      ]
     },
     "execution_count": 132,
     "metadata": {},
     "output_type": "execute_result"
    }
   ],
   "source": [
    "test_fam_hist_1_dum = pd.get_dummies(test_df['Family_Hist_1'])\n",
    "temp = pd.get_dummies(train_df['Family_Hist_1'])\n",
    "test_fam_hist_1_dum = test_fam_hist_1_dum.reindex(columns = temp.columns, fill_value=0)\n",
    "test_fam_hist_1_dum = test_fam_hist_1_dum.drop(1, axis=1)\n",
    "test_fam_hist_1_dum.shape"
   ]
  },
  {
   "cell_type": "code",
   "execution_count": 133,
   "metadata": {
    "collapsed": true
   },
   "outputs": [],
   "source": [
    "test_fam_hist_2_dum = test_df['Family_Hist_2']\n",
    "test_fam_hist_3_dum = test_df['Family_Hist_3']\n",
    "test_fam_hist_4_dum = test_df['Family_Hist_4']\n",
    "test_fam_hist_5_dum = test_df['Family_Hist_5']"
   ]
  },
  {
   "cell_type": "code",
   "execution_count": 134,
   "metadata": {
    "collapsed": false
   },
   "outputs": [
    {
     "data": {
      "text/plain": [
       "(19765, 6)"
      ]
     },
     "execution_count": 134,
     "metadata": {},
     "output_type": "execute_result"
    }
   ],
   "source": [
    "test_fam_hist_dummies = pd.concat([test_fam_hist_1_dum, test_fam_hist_2_dum, test_fam_hist_3_dum, test_fam_hist_4_dum,\n",
    "                              test_fam_hist_5_dum], axis = 1)\n",
    "test_fam_hist_dummies.shape"
   ]
  },
  {
   "cell_type": "code",
   "execution_count": 135,
   "metadata": {
    "collapsed": false
   },
   "outputs": [
    {
     "data": {
      "text/plain": [
       "(19765, 170)"
      ]
     },
     "execution_count": 135,
     "metadata": {},
     "output_type": "execute_result"
    }
   ],
   "source": [
    "test_med_hist_1_dum = pd.get_dummies(test_df['Medical_History_1'])\n",
    "temp = pd.get_dummies(train_df['Medical_History_1'])\n",
    "test_med_hist_1_dum = test_med_hist_1_dum.reindex(columns = temp.columns, fill_value=0)\n",
    "test_med_hist_1_dum = test_med_hist_1_dum.drop(132, axis=1)\n",
    "test_med_hist_1_dum.shape"
   ]
  },
  {
   "cell_type": "code",
   "execution_count": 136,
   "metadata": {
    "collapsed": false
   },
   "outputs": [
    {
     "data": {
      "text/plain": [
       "(59381, 578)"
      ]
     },
     "execution_count": 136,
     "metadata": {},
     "output_type": "execute_result"
    }
   ],
   "source": [
    "test_med_hist_2_dum = pd.get_dummies(test_df['Medical_History_2'])\n",
    "temp = pd.get_dummies(train_df['Medical_History_2'])\n",
    "test_med_hist_2_dum = test_med_hist_2_dum.reindex(columns = temp.columns, fill_value=0)\n",
    "test_med_hist_2_dum = test_med_hist_2_dum.drop(209, axis=1)\n",
    "med_hist_2_dum.shape"
   ]
  },
  {
   "cell_type": "code",
   "execution_count": 137,
   "metadata": {
    "collapsed": false
   },
   "outputs": [
    {
     "data": {
      "text/plain": [
       "(19765, 2)"
      ]
     },
     "execution_count": 137,
     "metadata": {},
     "output_type": "execute_result"
    }
   ],
   "source": [
    "test_med_hist_3_dum = pd.get_dummies(test_df['Medical_History_3'])\n",
    "temp = pd.get_dummies(train_df['Medical_History_3'])\n",
    "test_med_hist_3_dum = test_med_hist_3_dum.reindex(columns = temp.columns, fill_value=0)\n",
    "test_med_hist_3_dum = test_med_hist_3_dum.drop(1, axis=1)\n",
    "test_med_hist_3_dum.shape"
   ]
  },
  {
   "cell_type": "code",
   "execution_count": 138,
   "metadata": {
    "collapsed": false
   },
   "outputs": [
    {
     "data": {
      "text/plain": [
       "(19765, 1)"
      ]
     },
     "execution_count": 138,
     "metadata": {},
     "output_type": "execute_result"
    }
   ],
   "source": [
    "test_med_hist_4_dum = pd.get_dummies(test_df['Medical_History_4'])\n",
    "temp = pd.get_dummies(train_df['Medical_History_4'])\n",
    "test_med_hist_4_dum = test_med_hist_4_dum.reindex(columns = temp.columns, fill_value=0)\n",
    "test_med_hist_4_dum = test_med_hist_4_dum.drop(1, axis=1)\n",
    "test_med_hist_4_dum.shape"
   ]
  },
  {
   "cell_type": "code",
   "execution_count": 139,
   "metadata": {
    "collapsed": false
   },
   "outputs": [
    {
     "data": {
      "text/plain": [
       "(19765, 2)"
      ]
     },
     "execution_count": 139,
     "metadata": {},
     "output_type": "execute_result"
    }
   ],
   "source": [
    "test_med_hist_5_dum = pd.get_dummies(test_df['Medical_History_5'])\n",
    "temp = pd.get_dummies(train_df['Medical_History_5'])\n",
    "test_med_hist_5_dum = test_med_hist_5_dum.reindex(columns = temp.columns, fill_value=0)\n",
    "test_med_hist_5_dum = test_med_hist_5_dum.drop(3, axis=1)\n",
    "test_med_hist_5_dum.shape"
   ]
  },
  {
   "cell_type": "code",
   "execution_count": 140,
   "metadata": {
    "collapsed": false
   },
   "outputs": [
    {
     "data": {
      "text/plain": [
       "(19765, 2)"
      ]
     },
     "execution_count": 140,
     "metadata": {},
     "output_type": "execute_result"
    }
   ],
   "source": [
    "test_med_hist_6_dum = pd.get_dummies(test_df['Medical_History_6'])\n",
    "temp = pd.get_dummies(train_df['Medical_History_6'])\n",
    "test_med_hist_6_dum = test_med_hist_6_dum.reindex(columns = temp.columns, fill_value=0)\n",
    "test_med_hist_6_dum = test_med_hist_6_dum.drop(2, axis=1)\n",
    "test_med_hist_6_dum.shape"
   ]
  },
  {
   "cell_type": "code",
   "execution_count": 141,
   "metadata": {
    "collapsed": false
   },
   "outputs": [
    {
     "data": {
      "text/plain": [
       "(19765, 2)"
      ]
     },
     "execution_count": 141,
     "metadata": {},
     "output_type": "execute_result"
    }
   ],
   "source": [
    "test_med_hist_7_dum = pd.get_dummies(test_df['Medical_History_7'])\n",
    "temp = pd.get_dummies(train_df['Medical_History_7'])\n",
    "test_med_hist_7_dum = test_med_hist_7_dum.reindex(columns = temp.columns, fill_value=0)\n",
    "test_med_hist_7_dum = test_med_hist_7_dum.drop(1, axis=1)\n",
    "test_med_hist_7_dum.shape"
   ]
  },
  {
   "cell_type": "code",
   "execution_count": 142,
   "metadata": {
    "collapsed": false
   },
   "outputs": [
    {
     "data": {
      "text/plain": [
       "(19765, 2)"
      ]
     },
     "execution_count": 142,
     "metadata": {},
     "output_type": "execute_result"
    }
   ],
   "source": [
    "test_med_hist_8_dum = pd.get_dummies(test_df['Medical_History_8'])\n",
    "temp = pd.get_dummies(train_df['Medical_History_8'])\n",
    "test_med_hist_8_dum = test_med_hist_8_dum.reindex(columns = temp.columns, fill_value=0)\n",
    "test_med_hist_8_dum = test_med_hist_8_dum.drop(1, axis=1)\n",
    "test_med_hist_8_dum.shape"
   ]
  },
  {
   "cell_type": "code",
   "execution_count": 143,
   "metadata": {
    "collapsed": false
   },
   "outputs": [
    {
     "data": {
      "text/plain": [
       "(19765, 2)"
      ]
     },
     "execution_count": 143,
     "metadata": {},
     "output_type": "execute_result"
    }
   ],
   "source": [
    "test_med_hist_9_dum = pd.get_dummies(test_df['Medical_History_9'])\n",
    "temp = pd.get_dummies(train_df['Medical_History_9'])\n",
    "test_med_hist_9_dum = test_med_hist_9_dum.reindex(columns = temp.columns, fill_value=0)\n",
    "test_med_hist_9_dum = test_med_hist_9_dum.drop(3, axis=1)\n",
    "test_med_hist_9_dum.shape"
   ]
  },
  {
   "cell_type": "code",
   "execution_count": 144,
   "metadata": {
    "collapsed": false
   },
   "outputs": [
    {
     "data": {
      "text/plain": [
       "(19765, 102)"
      ]
     },
     "execution_count": 144,
     "metadata": {},
     "output_type": "execute_result"
    }
   ],
   "source": [
    "test_med_hist_10_dum = pd.get_dummies(test_df['Medical_History_10'])\n",
    "temp = pd.get_dummies(train_df['Medical_History_10'])\n",
    "test_med_hist_10_dum = test_med_hist_10_dum.reindex(columns = temp.columns, fill_value=0)\n",
    "test_med_hist_10_dum = test_med_hist_10_dum.drop(79, axis=1)\n",
    "test_med_hist_10_dum.shape"
   ]
  },
  {
   "cell_type": "code",
   "execution_count": 145,
   "metadata": {
    "collapsed": false
   },
   "outputs": [
    {
     "data": {
      "text/plain": [
       "(19765, 2)"
      ]
     },
     "execution_count": 145,
     "metadata": {},
     "output_type": "execute_result"
    }
   ],
   "source": [
    "test_med_hist_11_dum = pd.get_dummies(test_df['Medical_History_11'])\n",
    "temp = pd.get_dummies(train_df['Medical_History_11'])\n",
    "test_med_hist_11_dum = test_med_hist_11_dum.reindex(columns = temp.columns, fill_value=0)\n",
    "test_med_hist_11_dum = test_med_hist_11_dum.drop(1, axis=1)\n",
    "test_med_hist_11_dum.shape"
   ]
  },
  {
   "cell_type": "code",
   "execution_count": 146,
   "metadata": {
    "collapsed": false
   },
   "outputs": [
    {
     "data": {
      "text/plain": [
       "(19765, 2)"
      ]
     },
     "execution_count": 146,
     "metadata": {},
     "output_type": "execute_result"
    }
   ],
   "source": [
    "test_med_hist_12_dum = pd.get_dummies(test_df['Medical_History_12'])\n",
    "temp = pd.get_dummies(train_df['Medical_History_12'])\n",
    "test_med_hist_12_dum = test_med_hist_12_dum.reindex(columns = temp.columns, fill_value=0)\n",
    "test_med_hist_12_dum = test_med_hist_12_dum.drop(1, axis=1)\n",
    "test_med_hist_12_dum.shape"
   ]
  },
  {
   "cell_type": "code",
   "execution_count": 147,
   "metadata": {
    "collapsed": false
   },
   "outputs": [
    {
     "data": {
      "text/plain": [
       "(19765, 2)"
      ]
     },
     "execution_count": 147,
     "metadata": {},
     "output_type": "execute_result"
    }
   ],
   "source": [
    "test_med_hist_13_dum = pd.get_dummies(test_df['Medical_History_13'])\n",
    "temp = pd.get_dummies(train_df['Medical_History_13'])\n",
    "test_med_hist_13_dum = test_med_hist_13_dum.reindex(columns = temp.columns, fill_value=0)\n",
    "test_med_hist_13_dum = test_med_hist_13_dum.drop(2, axis=1)\n",
    "test_med_hist_13_dum.shape"
   ]
  },
  {
   "cell_type": "code",
   "execution_count": 148,
   "metadata": {
    "collapsed": false
   },
   "outputs": [
    {
     "data": {
      "text/plain": [
       "(19765, 2)"
      ]
     },
     "execution_count": 148,
     "metadata": {},
     "output_type": "execute_result"
    }
   ],
   "source": [
    "test_med_hist_14_dum = pd.get_dummies(test_df['Medical_History_14'])\n",
    "temp = pd.get_dummies(train_df['Medical_History_14'])\n",
    "test_med_hist_14_dum = test_med_hist_14_dum.reindex(columns = temp.columns, fill_value=0)\n",
    "test_med_hist_14_dum = test_med_hist_14_dum.drop(1, axis=1)\n",
    "test_med_hist_14_dum.shape"
   ]
  },
  {
   "cell_type": "code",
   "execution_count": 149,
   "metadata": {
    "collapsed": false
   },
   "outputs": [
    {
     "data": {
      "text/plain": [
       "(19765, 240)"
      ]
     },
     "execution_count": 149,
     "metadata": {},
     "output_type": "execute_result"
    }
   ],
   "source": [
    "test_med_hist_15_dum = pd.get_dummies(test_df['Medical_History_15'])\n",
    "temp = pd.get_dummies(train_df['Medical_History_15'])\n",
    "test_med_hist_15_dum = test_med_hist_15_dum.reindex(columns = temp.columns, fill_value=0)\n",
    "test_med_hist_15_dum = test_med_hist_15_dum.drop(206, axis=1)\n",
    "test_med_hist_15_dum.shape"
   ]
  },
  {
   "cell_type": "code",
   "execution_count": 150,
   "metadata": {
    "collapsed": false
   },
   "outputs": [
    {
     "data": {
      "text/plain": [
       "(19765, 2)"
      ]
     },
     "execution_count": 150,
     "metadata": {},
     "output_type": "execute_result"
    }
   ],
   "source": [
    "test_med_hist_16_dum = pd.get_dummies(test_df['Medical_History_16'])\n",
    "temp = pd.get_dummies(train_df['Medical_History_16'])\n",
    "test_med_hist_16_dum = test_med_hist_16_dum.reindex(columns = temp.columns, fill_value=0)\n",
    "test_med_hist_16_dum = test_med_hist_16_dum.drop(2, axis=1)\n",
    "test_med_hist_16_dum.shape"
   ]
  },
  {
   "cell_type": "code",
   "execution_count": 151,
   "metadata": {
    "collapsed": false
   },
   "outputs": [
    {
     "data": {
      "text/plain": [
       "(19765, 2)"
      ]
     },
     "execution_count": 151,
     "metadata": {},
     "output_type": "execute_result"
    }
   ],
   "source": [
    "test_med_hist_17_dum = pd.get_dummies(test_df['Medical_History_17'])\n",
    "temp = pd.get_dummies(train_df['Medical_History_17'])\n",
    "test_med_hist_17_dum = test_med_hist_17_dum.reindex(columns = temp.columns, fill_value=0)\n",
    "test_med_hist_17_dum = test_med_hist_17_dum.drop(1, axis=1)\n",
    "test_med_hist_17_dum.shape"
   ]
  },
  {
   "cell_type": "code",
   "execution_count": 152,
   "metadata": {
    "collapsed": false
   },
   "outputs": [
    {
     "data": {
      "text/plain": [
       "(19765, 2)"
      ]
     },
     "execution_count": 152,
     "metadata": {},
     "output_type": "execute_result"
    }
   ],
   "source": [
    "test_med_hist_18_dum = pd.get_dummies(test_df['Medical_History_18'])\n",
    "temp = pd.get_dummies(train_df['Medical_History_18'])\n",
    "test_med_hist_18_dum = test_med_hist_18_dum.reindex(columns = temp.columns, fill_value=0)\n",
    "test_med_hist_18_dum = test_med_hist_18_dum.drop(3, axis=1)\n",
    "test_med_hist_18_dum.shape"
   ]
  },
  {
   "cell_type": "code",
   "execution_count": 153,
   "metadata": {
    "collapsed": false
   },
   "outputs": [
    {
     "data": {
      "text/plain": [
       "(19765, 2)"
      ]
     },
     "execution_count": 153,
     "metadata": {},
     "output_type": "execute_result"
    }
   ],
   "source": [
    "test_med_hist_19_dum = pd.get_dummies(test_df['Medical_History_19'])\n",
    "temp = pd.get_dummies(train_df['Medical_History_19'])\n",
    "test_med_hist_19_dum = test_med_hist_19_dum.reindex(columns = temp.columns, fill_value=0)\n",
    "test_med_hist_19_dum = test_med_hist_19_dum.drop(3, axis=1)\n",
    "test_med_hist_19_dum.shape"
   ]
  },
  {
   "cell_type": "code",
   "execution_count": 154,
   "metadata": {
    "collapsed": false
   },
   "outputs": [
    {
     "data": {
      "text/plain": [
       "(19765, 2)"
      ]
     },
     "execution_count": 154,
     "metadata": {},
     "output_type": "execute_result"
    }
   ],
   "source": [
    "test_med_hist_20_dum = pd.get_dummies(test_df['Medical_History_20'])\n",
    "temp = pd.get_dummies(train_df['Medical_History_20'])\n",
    "test_med_hist_20_dum = test_med_hist_20_dum.reindex(columns = temp.columns, fill_value=0)\n",
    "test_med_hist_20_dum = test_med_hist_20_dum.drop(3, axis=1)\n",
    "test_med_hist_20_dum.shape"
   ]
  },
  {
   "cell_type": "code",
   "execution_count": 155,
   "metadata": {
    "collapsed": false
   },
   "outputs": [
    {
     "data": {
      "text/plain": [
       "(19765, 2)"
      ]
     },
     "execution_count": 155,
     "metadata": {},
     "output_type": "execute_result"
    }
   ],
   "source": [
    "test_med_hist_21_dum = pd.get_dummies(test_df['Medical_History_21'])\n",
    "temp = pd.get_dummies(train_df['Medical_History_21'])\n",
    "test_med_hist_21_dum = test_med_hist_21_dum.reindex(columns = temp.columns, fill_value=0)\n",
    "test_med_hist_21_dum = test_med_hist_21_dum.drop(3, axis=1)\n",
    "test_med_hist_21_dum.shape"
   ]
  },
  {
   "cell_type": "code",
   "execution_count": 156,
   "metadata": {
    "collapsed": false
   },
   "outputs": [
    {
     "data": {
      "text/plain": [
       "(19765, 1)"
      ]
     },
     "execution_count": 156,
     "metadata": {},
     "output_type": "execute_result"
    }
   ],
   "source": [
    "test_med_hist_22_dum = pd.get_dummies(test_df['Medical_History_22'])\n",
    "temp = pd.get_dummies(train_df['Medical_History_22'])\n",
    "test_med_hist_22_dum = test_med_hist_22_dum.reindex(columns = temp.columns, fill_value=0)\n",
    "test_med_hist_22_dum = test_med_hist_22_dum.drop(1, axis=1)\n",
    "test_med_hist_22_dum.shape"
   ]
  },
  {
   "cell_type": "code",
   "execution_count": 157,
   "metadata": {
    "collapsed": false
   },
   "outputs": [
    {
     "data": {
      "text/plain": [
       "(19765, 2)"
      ]
     },
     "execution_count": 157,
     "metadata": {},
     "output_type": "execute_result"
    }
   ],
   "source": [
    "test_med_hist_23_dum = pd.get_dummies(test_df['Medical_History_23'])\n",
    "temp = pd.get_dummies(train_df['Medical_History_23'])\n",
    "test_med_hist_23_dum = test_med_hist_23_dum.reindex(columns = temp.columns, fill_value=0)\n",
    "test_med_hist_23_dum = test_med_hist_23_dum.drop(2, axis=1)\n",
    "test_med_hist_23_dum.shape"
   ]
  },
  {
   "cell_type": "code",
   "execution_count": 158,
   "metadata": {
    "collapsed": false
   },
   "outputs": [
    {
     "data": {
      "text/plain": [
       "(19765, 226)"
      ]
     },
     "execution_count": 158,
     "metadata": {},
     "output_type": "execute_result"
    }
   ],
   "source": [
    "test_med_hist_24_dum = pd.get_dummies(test_df['Medical_History_24'])\n",
    "temp = pd.get_dummies(train_df['Medical_History_24'])\n",
    "test_med_hist_24_dum = test_med_hist_24_dum.reindex(columns = temp.columns, fill_value=0)\n",
    "test_med_hist_24_dum = test_med_hist_24_dum.drop(98, axis=1)\n",
    "test_med_hist_24_dum.shape"
   ]
  },
  {
   "cell_type": "code",
   "execution_count": 159,
   "metadata": {
    "collapsed": false
   },
   "outputs": [
    {
     "data": {
      "text/plain": [
       "(19765, 2)"
      ]
     },
     "execution_count": 159,
     "metadata": {},
     "output_type": "execute_result"
    }
   ],
   "source": [
    "test_med_hist_25_dum = pd.get_dummies(test_df['Medical_History_25'])\n",
    "temp = pd.get_dummies(train_df['Medical_History_25'])\n",
    "test_med_hist_25_dum = test_med_hist_25_dum.reindex(columns = temp.columns, fill_value=0)\n",
    "test_med_hist_25_dum = test_med_hist_25_dum.drop(3, axis=1)\n",
    "test_med_hist_25_dum.shape"
   ]
  },
  {
   "cell_type": "code",
   "execution_count": 160,
   "metadata": {
    "collapsed": false
   },
   "outputs": [
    {
     "data": {
      "text/plain": [
       "(19765, 2)"
      ]
     },
     "execution_count": 160,
     "metadata": {},
     "output_type": "execute_result"
    }
   ],
   "source": [
    "test_med_hist_26_dum = pd.get_dummies(test_df['Medical_History_26'])\n",
    "temp = pd.get_dummies(train_df['Medical_History_26'])\n",
    "test_med_hist_26_dum = test_med_hist_26_dum.reindex(columns = temp.columns, fill_value=0)\n",
    "test_med_hist_26_dum = test_med_hist_26_dum.drop(1, axis=1)\n",
    "test_med_hist_26_dum.shape"
   ]
  },
  {
   "cell_type": "code",
   "execution_count": 161,
   "metadata": {
    "collapsed": false
   },
   "outputs": [
    {
     "data": {
      "text/plain": [
       "(19765, 2)"
      ]
     },
     "execution_count": 161,
     "metadata": {},
     "output_type": "execute_result"
    }
   ],
   "source": [
    "test_med_hist_27_dum = pd.get_dummies(test_df['Medical_History_27'])\n",
    "temp = pd.get_dummies(train_df['Medical_History_27'])\n",
    "test_med_hist_27_dum = test_med_hist_27_dum.reindex(columns = temp.columns, fill_value=0)\n",
    "test_med_hist_27_dum = test_med_hist_27_dum.drop(2, axis=1)\n",
    "test_med_hist_27_dum.shape"
   ]
  },
  {
   "cell_type": "code",
   "execution_count": 162,
   "metadata": {
    "collapsed": false
   },
   "outputs": [
    {
     "data": {
      "text/plain": [
       "(19765, 2)"
      ]
     },
     "execution_count": 162,
     "metadata": {},
     "output_type": "execute_result"
    }
   ],
   "source": [
    "test_med_hist_28_dum = pd.get_dummies(test_df['Medical_History_28'])\n",
    "temp = pd.get_dummies(train_df['Medical_History_28'])\n",
    "test_med_hist_28_dum = test_med_hist_28_dum.reindex(columns = temp.columns, fill_value=0)\n",
    "test_med_hist_28_dum = test_med_hist_28_dum.drop(3, axis=1)\n",
    "test_med_hist_28_dum.shape"
   ]
  },
  {
   "cell_type": "code",
   "execution_count": 163,
   "metadata": {
    "collapsed": false
   },
   "outputs": [
    {
     "data": {
      "text/plain": [
       "(19765, 2)"
      ]
     },
     "execution_count": 163,
     "metadata": {},
     "output_type": "execute_result"
    }
   ],
   "source": [
    "test_med_hist_29_dum = pd.get_dummies(test_df['Medical_History_29'])\n",
    "temp = pd.get_dummies(train_df['Medical_History_29'])\n",
    "test_med_hist_29_dum = test_med_hist_29_dum.reindex(columns = temp.columns, fill_value=0)\n",
    "test_med_hist_29_dum = test_med_hist_29_dum.drop(2, axis=1)\n",
    "test_med_hist_29_dum.shape"
   ]
  },
  {
   "cell_type": "code",
   "execution_count": 164,
   "metadata": {
    "collapsed": false
   },
   "outputs": [
    {
     "data": {
      "text/plain": [
       "(19765, 2)"
      ]
     },
     "execution_count": 164,
     "metadata": {},
     "output_type": "execute_result"
    }
   ],
   "source": [
    "test_med_hist_30_dum = pd.get_dummies(test_df['Medical_History_30'])\n",
    "temp = pd.get_dummies(train_df['Medical_History_30'])\n",
    "test_med_hist_30_dum = test_med_hist_30_dum.reindex(columns = temp.columns, fill_value=0)\n",
    "test_med_hist_30_dum = test_med_hist_30_dum.drop(1, axis=1)\n",
    "test_med_hist_30_dum.shape"
   ]
  },
  {
   "cell_type": "code",
   "execution_count": 165,
   "metadata": {
    "collapsed": false
   },
   "outputs": [
    {
     "data": {
      "text/plain": [
       "(19765, 2)"
      ]
     },
     "execution_count": 165,
     "metadata": {},
     "output_type": "execute_result"
    }
   ],
   "source": [
    "test_med_hist_31_dum = pd.get_dummies(test_df['Medical_History_31'])\n",
    "temp = pd.get_dummies(train_df['Medical_History_31'])\n",
    "test_med_hist_31_dum = test_med_hist_31_dum.reindex(columns = temp.columns, fill_value=0)\n",
    "test_med_hist_31_dum = test_med_hist_31_dum.drop(2, axis=1)\n",
    "test_med_hist_31_dum.shape"
   ]
  },
  {
   "cell_type": "code",
   "execution_count": 166,
   "metadata": {
    "collapsed": false
   },
   "outputs": [
    {
     "data": {
      "text/plain": [
       "(19765, 94)"
      ]
     },
     "execution_count": 166,
     "metadata": {},
     "output_type": "execute_result"
    }
   ],
   "source": [
    "test_med_hist_32_dum = pd.get_dummies(test_df['Medical_History_32'])\n",
    "temp = pd.get_dummies(train_df['Medical_History_32'])\n",
    "test_med_hist_32_dum = test_med_hist_32_dum.reindex(columns = temp.columns, fill_value=0)\n",
    "test_med_hist_32_dum = test_med_hist_32_dum.drop(56, axis=1)\n",
    "test_med_hist_32_dum.shape"
   ]
  },
  {
   "cell_type": "code",
   "execution_count": 167,
   "metadata": {
    "collapsed": false
   },
   "outputs": [
    {
     "data": {
      "text/plain": [
       "(19765, 1)"
      ]
     },
     "execution_count": 167,
     "metadata": {},
     "output_type": "execute_result"
    }
   ],
   "source": [
    "test_med_hist_33_dum = pd.get_dummies(test_df['Medical_History_33'])\n",
    "temp = pd.get_dummies(train_df['Medical_History_33'])\n",
    "test_med_hist_33_dum = test_med_hist_33_dum.reindex(columns = temp.columns, fill_value=0)\n",
    "test_med_hist_33_dum = test_med_hist_33_dum.drop(1, axis=1)\n",
    "test_med_hist_33_dum.shape"
   ]
  },
  {
   "cell_type": "code",
   "execution_count": 168,
   "metadata": {
    "collapsed": false
   },
   "outputs": [
    {
     "data": {
      "text/plain": [
       "(19765, 2)"
      ]
     },
     "execution_count": 168,
     "metadata": {},
     "output_type": "execute_result"
    }
   ],
   "source": [
    "test_med_hist_34_dum = pd.get_dummies(test_df['Medical_History_34'])\n",
    "temp = pd.get_dummies(train_df['Medical_History_34'])\n",
    "test_med_hist_34_dum = test_med_hist_34_dum.reindex(columns = temp.columns, fill_value=0)\n",
    "test_med_hist_34_dum = test_med_hist_34_dum.drop(2, axis=1)\n",
    "test_med_hist_34_dum.shape"
   ]
  },
  {
   "cell_type": "code",
   "execution_count": 169,
   "metadata": {
    "collapsed": false
   },
   "outputs": [
    {
     "data": {
      "text/plain": [
       "(19765, 2)"
      ]
     },
     "execution_count": 169,
     "metadata": {},
     "output_type": "execute_result"
    }
   ],
   "source": [
    "test_med_hist_35_dum = pd.get_dummies(test_df['Medical_History_35'])\n",
    "temp = pd.get_dummies(train_df['Medical_History_35'])\n",
    "test_med_hist_35_dum = test_med_hist_35_dum.reindex(columns = temp.columns, fill_value=0)\n",
    "test_med_hist_35_dum = test_med_hist_35_dum.drop(2, axis=1)\n",
    "test_med_hist_35_dum.shape"
   ]
  },
  {
   "cell_type": "code",
   "execution_count": 170,
   "metadata": {
    "collapsed": false
   },
   "outputs": [
    {
     "data": {
      "text/plain": [
       "(19765, 2)"
      ]
     },
     "execution_count": 170,
     "metadata": {},
     "output_type": "execute_result"
    }
   ],
   "source": [
    "test_med_hist_36_dum = pd.get_dummies(test_df['Medical_History_36'])\n",
    "temp = pd.get_dummies(train_df['Medical_History_36'])\n",
    "test_med_hist_36_dum = test_med_hist_36_dum.reindex(columns = temp.columns, fill_value=0)\n",
    "test_med_hist_36_dum = test_med_hist_36_dum.drop(1, axis=1)\n",
    "test_med_hist_36_dum.shape"
   ]
  },
  {
   "cell_type": "code",
   "execution_count": 171,
   "metadata": {
    "collapsed": false
   },
   "outputs": [
    {
     "data": {
      "text/plain": [
       "(19765, 2)"
      ]
     },
     "execution_count": 171,
     "metadata": {},
     "output_type": "execute_result"
    }
   ],
   "source": [
    "test_med_hist_37_dum = pd.get_dummies(test_df['Medical_History_37'])\n",
    "temp = pd.get_dummies(train_df['Medical_History_37'])\n",
    "test_med_hist_37_dum = test_med_hist_37_dum.reindex(columns = temp.columns, fill_value=0)\n",
    "test_med_hist_37_dum = test_med_hist_37_dum.drop(3, axis=1)\n",
    "test_med_hist_37_dum.shape"
   ]
  },
  {
   "cell_type": "code",
   "execution_count": 172,
   "metadata": {
    "collapsed": false
   },
   "outputs": [
    {
     "data": {
      "text/plain": [
       "(19765, 1)"
      ]
     },
     "execution_count": 172,
     "metadata": {},
     "output_type": "execute_result"
    }
   ],
   "source": [
    "test_med_hist_38_dum = pd.get_dummies(test_df['Medical_History_38'])\n",
    "temp = pd.get_dummies(train_df['Medical_History_38'])\n",
    "test_med_hist_38_dum = test_med_hist_38_dum.reindex(columns = temp.columns, fill_value=0)\n",
    "test_med_hist_38_dum = test_med_hist_38_dum.drop(2, axis=1)\n",
    "test_med_hist_38_dum.shape"
   ]
  },
  {
   "cell_type": "code",
   "execution_count": 173,
   "metadata": {
    "collapsed": false
   },
   "outputs": [
    {
     "data": {
      "text/plain": [
       "(19765, 2)"
      ]
     },
     "execution_count": 173,
     "metadata": {},
     "output_type": "execute_result"
    }
   ],
   "source": [
    "test_med_hist_39_dum = pd.get_dummies(test_df['Medical_History_39'])\n",
    "temp = pd.get_dummies(train_df['Medical_History_39'])\n",
    "test_med_hist_39_dum = test_med_hist_39_dum.reindex(columns = temp.columns, fill_value=0)\n",
    "test_med_hist_39_dum = test_med_hist_39_dum.drop(2, axis=1)\n",
    "test_med_hist_39_dum.shape"
   ]
  },
  {
   "cell_type": "code",
   "execution_count": 174,
   "metadata": {
    "collapsed": false
   },
   "outputs": [
    {
     "data": {
      "text/plain": [
       "(19765, 2)"
      ]
     },
     "execution_count": 174,
     "metadata": {},
     "output_type": "execute_result"
    }
   ],
   "source": [
    "test_med_hist_40_dum = pd.get_dummies(test_df['Medical_History_40'])\n",
    "temp = pd.get_dummies(train_df['Medical_History_40'])\n",
    "test_med_hist_40_dum = test_med_hist_40_dum.reindex(columns = temp.columns, fill_value=0)\n",
    "test_med_hist_40_dum = test_med_hist_40_dum.drop(2, axis=1)\n",
    "test_med_hist_40_dum.shape"
   ]
  },
  {
   "cell_type": "code",
   "execution_count": 175,
   "metadata": {
    "collapsed": false
   },
   "outputs": [
    {
     "data": {
      "text/plain": [
       "(19765, 2)"
      ]
     },
     "execution_count": 175,
     "metadata": {},
     "output_type": "execute_result"
    }
   ],
   "source": [
    "test_med_hist_41_dum = pd.get_dummies(test_df['Medical_History_41'])\n",
    "temp = pd.get_dummies(train_df['Medical_History_41'])\n",
    "test_med_hist_41_dum = test_med_hist_41_dum.reindex(columns = temp.columns, fill_value=0)\n",
    "test_med_hist_41_dum = test_med_hist_41_dum.drop(2, axis=1)\n",
    "test_med_hist_41_dum.shape"
   ]
  },
  {
   "cell_type": "code",
   "execution_count": 176,
   "metadata": {
    "collapsed": false
   },
   "outputs": [
    {
     "data": {
      "text/plain": [
       "(19765, 1476)"
      ]
     },
     "execution_count": 176,
     "metadata": {},
     "output_type": "execute_result"
    }
   ],
   "source": [
    "test_med_hist_dummies = pd.concat([test_med_hist_1_dum, test_med_hist_2_dum, test_med_hist_3_dum, test_med_hist_4_dum, test_med_hist_5_dum,\n",
    "                             test_med_hist_6_dum, test_med_hist_7_dum, test_med_hist_8_dum, test_med_hist_9_dum, test_med_hist_10_dum,\n",
    "                             test_med_hist_11_dum, test_med_hist_12_dum, test_med_hist_13_dum, test_med_hist_14_dum, test_med_hist_15_dum,\n",
    "                             test_med_hist_16_dum, test_med_hist_17_dum, test_med_hist_18_dum, test_med_hist_19_dum, test_med_hist_20_dum,\n",
    "                             test_med_hist_21_dum, test_med_hist_22_dum, test_med_hist_23_dum, test_med_hist_24_dum, test_med_hist_25_dum,\n",
    "                             test_med_hist_26_dum, test_med_hist_27_dum, test_med_hist_28_dum, test_med_hist_29_dum, test_med_hist_30_dum,                             \n",
    "                             test_med_hist_31_dum, test_med_hist_32_dum, test_med_hist_33_dum, test_med_hist_34_dum, test_med_hist_35_dum,\n",
    "                             test_med_hist_36_dum, test_med_hist_37_dum, test_med_hist_38_dum, test_med_hist_39_dum, test_med_hist_40_dum,                             \n",
    "                             test_med_hist_41_dum], axis = 1)\n",
    "test_med_hist_dummies.shape"
   ]
  },
  {
   "cell_type": "code",
   "execution_count": 177,
   "metadata": {
    "collapsed": false
   },
   "outputs": [
    {
     "data": {
      "text/plain": [
       "(19765, 48)"
      ]
     },
     "execution_count": 177,
     "metadata": {},
     "output_type": "execute_result"
    }
   ],
   "source": [
    "test_med_key_dummies = test_df[['Medical_Keyword_1','Medical_Keyword_2','Medical_Keyword_3','Medical_Keyword_4','Medical_Keyword_5',\n",
    "                'Medical_Keyword_6','Medical_Keyword_7','Medical_Keyword_8','Medical_Keyword_9','Medical_Keyword_10',\n",
    "                'Medical_Keyword_11','Medical_Keyword_12','Medical_Keyword_13','Medical_Keyword_14','Medical_Keyword_15',\n",
    "                'Medical_Keyword_16','Medical_Keyword_17','Medical_Keyword_18','Medical_Keyword_19','Medical_Keyword_20',\n",
    "                'Medical_Keyword_21','Medical_Keyword_22','Medical_Keyword_23','Medical_Keyword_24','Medical_Keyword_25',\n",
    "                'Medical_Keyword_26','Medical_Keyword_27','Medical_Keyword_28','Medical_Keyword_29','Medical_Keyword_30',                            \n",
    "                'Medical_Keyword_31','Medical_Keyword_32','Medical_Keyword_33','Medical_Keyword_34','Medical_Keyword_35',\n",
    "                'Medical_Keyword_36','Medical_Keyword_37','Medical_Keyword_38','Medical_Keyword_39','Medical_Keyword_40',                            \n",
    "                'Medical_Keyword_41','Medical_Keyword_42','Medical_Keyword_43','Medical_Keyword_44','Medical_Keyword_45',\n",
    "                'Medical_Keyword_46','Medical_Keyword_47','Medical_Keyword_48']]\n",
    "test_med_key_dummies.shape"
   ]
  },
  {
   "cell_type": "code",
   "execution_count": 178,
   "metadata": {
    "collapsed": true
   },
   "outputs": [],
   "source": [
    "X_test = pd.concat([test_prod_info_dummies, test_physical_info, test_emp_info_dummies, test_ins_info_dummies, test_ins_hist_dummies, test_fam_hist_dummies, \n",
    "                    test_med_hist_dummies, test_med_key_dummies], axis = 1)\n",
    "X_test.fillna(0, inplace=True)"
   ]
  },
  {
   "cell_type": "code",
   "execution_count": 179,
   "metadata": {
    "collapsed": false
   },
   "outputs": [],
   "source": [
    "from sklearn.ensemble import RandomForestClassifier\n",
    "from sklearn.cross_validation import train_test_split\n",
    "from skll.metrics import kappa"
   ]
  },
  {
   "cell_type": "code",
   "execution_count": null,
   "metadata": {
    "collapsed": false
   },
   "outputs": [],
   "source": [
    "n_est_list = [2, 5, 10, 25, 50, 100, 250, 500]\n",
    "X_train, X_val, Y_train, Y_val = train_test_split(X_full, Y_full, random_state = 5)\n",
    "val_best = 0.0\n",
    "for n_estimators in n_est_list:\n",
    "    clf = RandomForestClassifier(n_estimators = n_estimators, n_jobs = -1)\n",
    "    clf.fit(X_train, Y_train)\n",
    "    print'Training accuracy for n_est = %d :  %.5f' %(n_estimators, clf.score(X_train, Y_train))\n",
    "    val_acc = clf.score(X_val, Y_val)\n",
    "    print'Validation accuracy for n_est = %d :  %.5f' %(n_estimators, val_acc)\n",
    "    if (val_acc > val_best):\n",
    "        val_best = val_acc\n",
    "        clf_best = clf"
   ]
  },
  {
   "cell_type": "markdown",
   "metadata": {},
   "source": [
    "v1: dummy birsey\n",
    "Burdaki 0.54028 liyi v2 olarak kullandim."
   ]
  },
  {
   "cell_type": "code",
   "execution_count": null,
   "metadata": {
    "collapsed": false
   },
   "outputs": [],
   "source": [
    "n_est_list = [2, 5, 10, 25, 50, 100, 250, 500]\n",
    "X_train, X_val, Y_train, Y_val = train_test_split(X_full, Y_full, random_state = 5)\n",
    "val_best = 0.0\n",
    "for n_estimators in n_est_list:\n",
    "    clf = RandomForestClassifier(n_estimators = n_estimators, n_jobs = -1, criterion='entropy')\n",
    "    clf.fit(X_train, Y_train)\n",
    "    print'Criterion entropy Training accuracy for n_est = %d :  %.5f' %(n_estimators, clf.score(X_train, Y_train))\n",
    "    val_acc = clf.score(X_val, Y_val)\n",
    "    print'Criterion entropy Validation accuracy for n_est = %d :  %.5f' %(n_estimators, val_acc)\n",
    "    if (val_acc > val_best):\n",
    "        val_best = val_acc\n",
    "        clf_best = clf"
   ]
  },
  {
   "cell_type": "code",
   "execution_count": null,
   "metadata": {
    "collapsed": false
   },
   "outputs": [],
   "source": [
    "max_depth_list = [2, 5, 10, 25, 50, 100, 250, 500, None]\n",
    "X_train, X_val, Y_train, Y_val = train_test_split(X_full, Y_full, random_state = 5)\n",
    "val_best = 0.0\n",
    "for max_depth in max_depth_list:\n",
    "    clf = RandomForestClassifier(n_estimators = 100, n_jobs = -1, max_depth = max_depth)\n",
    "    clf.fit(X_train, Y_train)\n",
    "    if (max_depth == None):\n",
    "        max_depth = 1e23\n",
    "    print'Training accuracy for max depth = %5.2d :  %.5f' %(max_depth, clf.score(X_train, Y_train))\n",
    "    val_acc = clf.score(X_val, Y_val)\n",
    "    print'Validation accuracy for max depth = %5.2d :  %.5f' %(max_depth, val_acc)\n",
    "    if (val_acc > val_best):\n",
    "        val_best = val_acc\n",
    "        clf_best = clf"
   ]
  },
  {
   "cell_type": "code",
   "execution_count": null,
   "metadata": {
    "collapsed": false
   },
   "outputs": [],
   "source": [
    "n_est_list = [50, 100, 250, 500, 1000, 2500]\n",
    "X_train, X_val, Y_train, Y_val = train_test_split(X_full, Y_full, random_state = 5)\n",
    "val_best = 0.0\n",
    "for n_estimators in n_est_list:\n",
    "    clf = RandomForestClassifier(n_estimators = n_estimators, n_jobs = -1, max_depth = 100)\n",
    "    clf.fit(X_train, Y_train)\n",
    "    print'Training accuracy for n_est = %d max_depth = 100 :  %.5f' %(n_estimators, clf.score(X_train, Y_train))\n",
    "    val_acc = clf.score(X_val, Y_val)\n",
    "    print'Validation accuracy for n_est = %d max_depth = 100 :  %.5f' %(n_estimators, val_acc)\n",
    "    if (val_acc > val_best):\n",
    "        val_best = val_acc\n",
    "        clf_best = clf"
   ]
  },
  {
   "cell_type": "code",
   "execution_count": null,
   "metadata": {
    "collapsed": false
   },
   "outputs": [],
   "source": [
    "n_est_list = [50, 100, 250]\n",
    "X_train, X_val, Y_train, Y_val = train_test_split(X_full, Y_full, random_state = 5)\n",
    "val_best = 0.0\n",
    "for n_estimators in n_est_list:\n",
    "    clf = RandomForestClassifier(n_estimators = n_estimators, n_jobs = -1, max_depth = 50)\n",
    "    clf.fit(X_train, Y_train)\n",
    "    print'Training accuracy for n_est = %d max_depth = 50 :  %.5f' %(n_estimators, clf.score(X_train, Y_train))\n",
    "    val_acc = clf.score(X_val, Y_val)\n",
    "    print'Validation accuracy for n_est = %d max_depth = 50 :  %.5f' %(n_estimators, val_acc)\n",
    "    if (val_acc > val_best):\n",
    "        val_best = val_acc\n",
    "        clf_best = clf"
   ]
  },
  {
   "cell_type": "code",
   "execution_count": 187,
   "metadata": {
    "collapsed": false
   },
   "outputs": [
    {
     "name": "stdout",
     "output_type": "stream",
     "text": [
      "Training accuracy for n_est = 50 max_depth = 50 :  0.99234\n",
      "Validation accuracy for n_est = 50 max_depth = 50 :  0.56231\n",
      "Training accuracy for n_est = 100 max_depth = 50 :  0.99362\n",
      "Validation accuracy for n_est = 100 max_depth = 50 :  0.56823\n",
      "Training accuracy for n_est = 250 max_depth = 50 :  0.99468\n",
      "Validation accuracy for n_est = 250 max_depth = 50 :  0.56823\n"
     ]
    }
   ],
   "source": [
    "n_est_list = [50, 100, 250]\n",
    "X_train, X_val, Y_train, Y_val = train_test_split(X_full, Y_full, random_state = 5)\n",
    "val_best = 0.0\n",
    "for n_estimators in n_est_list:\n",
    "    clf = RandomForestClassifier(n_estimators = n_estimators, n_jobs = -1, max_depth = 50, max_features = None)\n",
    "    clf.fit(X_train, Y_train)\n",
    "    print'Training accuracy for n_est = %d max_depth = 50 :  %.5f' %(n_estimators, clf.score(X_train, Y_train))\n",
    "    val_acc = clf.score(X_val, Y_val)\n",
    "    print'Validation accuracy for n_est = %d max_depth = 50 :  %.5f' %(n_estimators, val_acc)\n",
    "    if (val_acc > val_best):\n",
    "        val_best = val_acc\n",
    "        clf_best = clf"
   ]
  },
  {
   "cell_type": "code",
   "execution_count": 206,
   "metadata": {
    "collapsed": false
   },
   "outputs": [
    {
     "name": "stdout",
     "output_type": "stream",
     "text": [
      "Training accuracy for n_est = 50 max_depth = 250 :  0.99991\n",
      "Validation accuracy for n_est = 50 max_depth = 250 :  0.52526\n",
      "Kappa score for n_est = 50 max_depth = 250 : 0.50096\n",
      "Training accuracy for n_est = 100 max_depth = 250 :  1.00000\n",
      "Validation accuracy for n_est = 100 max_depth = 250 :  0.53422\n",
      "Kappa score for n_est = 100 max_depth = 250 : 0.50776\n",
      "Training accuracy for n_est = 250 max_depth = 250 :  1.00000\n",
      "Validation accuracy for n_est = 250 max_depth = 250 :  0.53940\n",
      "Kappa score for n_est = 250 max_depth = 250 : 0.51033\n",
      "Training accuracy for n_est = 500 max_depth = 250 :  1.00000\n",
      "Validation accuracy for n_est = 500 max_depth = 250 :  0.54210\n",
      "Kappa score for n_est = 500 max_depth = 250 : 0.50854\n",
      "Training accuracy for n_est = 1000 max_depth = 250 :  1.00000\n",
      "Validation accuracy for n_est = 1000 max_depth = 250 :  0.54372\n",
      "Kappa score for n_est = 1000 max_depth = 250 : 0.51129\n",
      "Training accuracy for n_est = 2500 max_depth = 250 :  1.00000\n",
      "Validation accuracy for n_est = 2500 max_depth = 250 :  0.54264\n",
      "Kappa score for n_est = 2500 max_depth = 250 : 0.50906\n",
      "Training accuracy for n_est = 5000 max_depth = 250 :  1.00000\n",
      "Validation accuracy for n_est = 5000 max_depth = 250 :  0.54486\n",
      "Kappa score for n_est = 5000 max_depth = 250 : 0.51094\n"
     ]
    }
   ],
   "source": [
    "n_est_list = [50, 100, 250, 500, 1000, 2500, 5000]\n",
    "X_train, X_val, Y_train, Y_val = train_test_split(X_full, Y_full, random_state = 5)\n",
    "val_best = 0.0\n",
    "for n_estimators in n_est_list:\n",
    "    clf = RandomForestClassifier(n_estimators = n_estimators, n_jobs = -1, max_depth = 250)\n",
    "    clf.fit(X_train, Y_train)\n",
    "    print'Training accuracy for n_est = %d max_depth = 250 :  %.5f' %(n_estimators, clf.score(X_train, Y_train))\n",
    "    Y_val_pred = clf.predict(X_val)\n",
    "    val_acc = clf.score(X_val, Y_val)\n",
    "    print'Validation accuracy for n_est = %d max_depth = 250 :  %.5f' %(n_estimators, val_acc)\n",
    "    print'Kappa score for n_est = %d max_depth = 250 : %.5f' %(n_estimators, kappa(Y_val, Y_val_pred, weights='quadratic'))\n",
    "    if (val_acc > val_best):\n",
    "        val_best = val_acc\n",
    "        clf_best = clf"
   ]
  },
  {
   "cell_type": "code",
   "execution_count": 180,
   "metadata": {
    "collapsed": false
   },
   "outputs": [],
   "source": [
    "from sklearn.linear_model import LogisticRegression"
   ]
  },
  {
   "cell_type": "code",
   "execution_count": 183,
   "metadata": {
    "collapsed": false
   },
   "outputs": [
    {
     "name": "stdout",
     "output_type": "stream",
     "text": [
      "Logistic Regression | Training accuracy for n_est = 50 max_depth = 50 :  0.55543\n",
      "Logistic Regression | Kappa training score for n_est = 50 max_depth = 50 : 0.54079\n",
      "Logistic Regression | Validation accuracy for n_est = 50 max_depth = 50 :  0.52593\n",
      "Logistic Regression | Kappa validation score for n_est = 50 max_depth = 50 : 0.52011\n"
     ]
    }
   ],
   "source": [
    "X_train, X_val, Y_train, Y_val = train_test_split(X_full, Y_full, random_state = 5)\n",
    "clf_logreg = LogisticRegression(n_jobs = -1)\n",
    "clf_logreg.fit(X_train, Y_train)\n",
    "print'Logistic Regression | Training accuracy for n_est = %d max_depth = %d :  %.5f' %(n_estimators, max_depth, clf_logreg.score(X_train, Y_train))\n",
    "Y_train_pred = clf_logreg.predict(X_train)\n",
    "print'Logistic Regression | Kappa training score for n_est = %d max_depth = %d : %.5f' %(n_estimators, max_depth, kappa(Y_train, Y_train_pred, weights='quadratic'))\n",
    "Y_val_pred = clf_logreg.predict(X_val)\n",
    "val_acc = clf_logreg.score(X_val, Y_val)\n",
    "print'Logistic Regression | Validation accuracy for n_est = %d max_depth = %d :  %.5f' %(n_estimators, max_depth, val_acc)\n",
    "print'Logistic Regression | Kappa validation score for n_est = %d max_depth = %d : %.5f' %(n_estimators, max_depth, kappa(Y_val, Y_val_pred, weights='quadratic'))\n"
   ]
  },
  {
   "cell_type": "code",
   "execution_count": 184,
   "metadata": {
    "collapsed": false
   },
   "outputs": [
    {
     "data": {
      "text/plain": [
       "array([2, 5, 8, ..., 8, 4, 8], dtype=int64)"
      ]
     },
     "execution_count": 184,
     "metadata": {},
     "output_type": "execute_result"
    }
   ],
   "source": [
    "Y_val_pred"
   ]
  },
  {
   "cell_type": "code",
   "execution_count": 191,
   "metadata": {
    "collapsed": true
   },
   "outputs": [],
   "source": [
    "from sklearn.linear_model import SGDClassifier"
   ]
  },
  {
   "cell_type": "code",
   "execution_count": 193,
   "metadata": {
    "collapsed": false
   },
   "outputs": [
    {
     "name": "stdout",
     "output_type": "stream",
     "text": [
      "SGD Hinge Loss | Training accuracy for n_est = 50 max_depth = 50 :  0.47976\n",
      "SGD Hinge Loss | Kappa training score for n_est = 50 max_depth = 50 : 0.49034\n",
      "SGD Hinge Loss | Validation accuracy for n_est = 50 max_depth = 50 :  0.46349\n",
      "SGD Hinge Loss| Kappa validation score for n_est = 50 max_depth = 50 : 0.48024\n"
     ]
    }
   ],
   "source": [
    "X_train, X_val, Y_train, Y_val = train_test_split(X_full, Y_full, random_state = 5)\n",
    "clf_sgd_hinge = SGDClassifier(n_jobs = -1, loss ='hinge', n_iter = 100)\n",
    "clf_sgd_hinge.fit(X_train, Y_train)\n",
    "print'SGD Hinge Loss | Training accuracy for n_est = %d max_depth = %d :  %.5f' %(n_estimators, max_depth, \n",
    "                                                                                       clf_sgd_hinge.score(X_train, Y_train))\n",
    "Y_train_pred = clf_sgd_hinge.predict(X_train)\n",
    "print'SGD Hinge Loss | Kappa training score for n_est = %d max_depth = %d : %.5f' %(n_estimators, max_depth, kappa(Y_train, Y_train_pred, weights='quadratic'))\n",
    "Y_val_pred = clf_sgd_hinge.predict(X_val)\n",
    "val_acc = clf_sgd_hinge.score(X_val, Y_val)\n",
    "print'SGD Hinge Loss | Validation accuracy for n_est = %d max_depth = %d :  %.5f' %(n_estimators, max_depth, val_acc)\n",
    "print'SGD Hinge Loss| Kappa validation score for n_est = %d max_depth = %d : %.5f' %(n_estimators, max_depth, kappa(Y_val, Y_val_pred, weights='quadratic'))\n"
   ]
  },
  {
   "cell_type": "code",
   "execution_count": 196,
   "metadata": {
    "collapsed": false
   },
   "outputs": [
    {
     "name": "stdout",
     "output_type": "stream",
     "text": [
      "SGD Hinge Loss | Training accuracy for n_est = 50 max_depth = 50 :  0.52925\n",
      "SGD Hinge Loss | Kappa training score for n_est = 50 max_depth = 50 : 0.50273\n",
      "SGD Hinge Loss | Validation accuracy for n_est = 50 max_depth = 50 :  0.49966\n",
      "SGD Hinge Loss| Kappa validation score for n_est = 50 max_depth = 50 : 0.48680\n"
     ]
    }
   ],
   "source": [
    "X_train, X_val, Y_train, Y_val = train_test_split(X_full, Y_full, random_state = 5)\n",
    "clf_sgd_hinge = SGDClassifier(n_jobs = -1, loss ='hinge', n_iter = 500)\n",
    "clf_sgd_hinge.fit(X_train, Y_train)\n",
    "print'SGD Hinge Loss | Training accuracy for n_est = %d max_depth = %d :  %.5f' %(n_estimators, max_depth, \n",
    "                                                                                       clf_sgd_hinge.score(X_train, Y_train))\n",
    "Y_train_pred = clf_sgd_hinge.predict(X_train)\n",
    "print'SGD Hinge Loss | Kappa training score for n_est = %d max_depth = %d : %.5f' %(n_estimators, max_depth, kappa(Y_train, Y_train_pred, weights='quadratic'))\n",
    "Y_val_pred = clf_sgd_hinge.predict(X_val)\n",
    "val_acc = clf_sgd_hinge.score(X_val, Y_val)\n",
    "print'SGD Hinge Loss | Validation accuracy for n_est = %d max_depth = %d :  %.5f' %(n_estimators, max_depth, val_acc)\n",
    "print'SGD Hinge Loss| Kappa validation score for n_est = %d max_depth = %d : %.5f' %(n_estimators, max_depth, kappa(Y_val, Y_val_pred, weights='quadratic'))\n"
   ]
  },
  {
   "cell_type": "code",
   "execution_count": 199,
   "metadata": {
    "collapsed": false
   },
   "outputs": [
    {
     "name": "stdout",
     "output_type": "stream",
     "text": [
      "SGD Hinge Loss | Training accuracy for n_est = 50 max_depth = 50 :  0.51315\n",
      "SGD Hinge Loss | Kappa training score for n_est = 50 max_depth = 50 : 0.51346\n",
      "SGD Hinge Loss | Validation accuracy for n_est = 50 max_depth = 50 :  0.48289\n",
      "SGD Hinge Loss| Kappa validation score for n_est = 50 max_depth = 50 : 0.49767\n"
     ]
    }
   ],
   "source": [
    "X_train, X_val, Y_train, Y_val = train_test_split(X_full, Y_full, random_state = 5)\n",
    "clf_sgd_hinge = SGDClassifier(n_jobs = -1, loss ='hinge', n_iter = 1000)\n",
    "clf_sgd_hinge.fit(X_train, Y_train)\n",
    "print'SGD Hinge Loss | Training accuracy for n_est = %d max_depth = %d :  %.5f' %(n_estimators, max_depth, \n",
    "                                                                                       clf_sgd_hinge.score(X_train, Y_train))\n",
    "Y_train_pred = clf_sgd_hinge.predict(X_train)\n",
    "print'SGD Hinge Loss | Kappa training score for n_est = %d max_depth = %d : %.5f' %(n_estimators, max_depth, kappa(Y_train, Y_train_pred, weights='quadratic'))\n",
    "Y_val_pred = clf_sgd_hinge.predict(X_val)\n",
    "val_acc = clf_sgd_hinge.score(X_val, Y_val)\n",
    "print'SGD Hinge Loss | Validation accuracy for n_est = %d max_depth = %d :  %.5f' %(n_estimators, max_depth, val_acc)\n",
    "print'SGD Hinge Loss| Kappa validation score for n_est = %d max_depth = %d : %.5f' %(n_estimators, max_depth, kappa(Y_val, Y_val_pred, weights='quadratic'))\n"
   ]
  },
  {
   "cell_type": "code",
   "execution_count": 200,
   "metadata": {
    "collapsed": false
   },
   "outputs": [
    {
     "name": "stdout",
     "output_type": "stream",
     "text": [
      "SGD Hinge Loss | Training accuracy for n_est = 50 max_depth = 50 :  0.51726\n",
      "SGD Hinge Loss | Kappa training score for n_est = 50 max_depth = 50 : 0.50919\n",
      "SGD Hinge Loss | Validation accuracy for n_est = 50 max_depth = 50 :  0.48916\n",
      "SGD Hinge Loss| Kappa validation score for n_est = 50 max_depth = 50 : 0.48485\n"
     ]
    }
   ],
   "source": [
    "X_train, X_val, Y_train, Y_val = train_test_split(X_full, Y_full, random_state = 5)\n",
    "clf_sgd_hinge = SGDClassifier(n_jobs = -1, loss ='hinge', n_iter = 5000)\n",
    "clf_sgd_hinge.fit(X_train, Y_train)\n",
    "print'SGD Hinge Loss | Training accuracy for n_est = %d max_depth = %d :  %.5f' %(n_estimators, max_depth, \n",
    "                                                                                       clf_sgd_hinge.score(X_train, Y_train))\n",
    "Y_train_pred = clf_sgd_hinge.predict(X_train)\n",
    "print'SGD Hinge Loss | Kappa training score for n_est = %d max_depth = %d : %.5f' %(n_estimators, max_depth, kappa(Y_train, Y_train_pred, weights='quadratic'))\n",
    "Y_val_pred = clf_sgd_hinge.predict(X_val)\n",
    "val_acc = clf_sgd_hinge.score(X_val, Y_val)\n",
    "print'SGD Hinge Loss | Validation accuracy for n_est = %d max_depth = %d :  %.5f' %(n_estimators, max_depth, val_acc)\n",
    "print'SGD Hinge Loss| Kappa validation score for n_est = %d max_depth = %d : %.5f' %(n_estimators, max_depth, kappa(Y_val, Y_val_pred, weights='quadratic'))\n"
   ]
  },
  {
   "cell_type": "code",
   "execution_count": 201,
   "metadata": {
    "collapsed": false
   },
   "outputs": [],
   "source": [
    "from sklearn import svm"
   ]
  },
  {
   "cell_type": "code",
   "execution_count": 202,
   "metadata": {
    "collapsed": false
   },
   "outputs": [
    {
     "name": "stdout",
     "output_type": "stream",
     "text": [
      "SVM RBF Loss | Training accuracy for n_est = 50 max_depth = 50 :  0.43977\n",
      "SVM RBF Loss | Kappa training score for n_est = 50 max_depth = 50 : 0.34372\n",
      "SVM RBF Loss | Validation accuracy for n_est = 50 max_depth = 50 :  0.43635\n",
      "SVM RBF Loss| Kappa validation score for n_est = 50 max_depth = 50 : 0.34062\n"
     ]
    }
   ],
   "source": [
    "X_train, X_val, Y_train, Y_val = train_test_split(X_full, Y_full, random_state = 5)\n",
    "clf_svm_rbf = svm.SVC(kernel = 'rbf')\n",
    "clf_svm_rbf.fit(X_train, Y_train)\n",
    "print'SVM RBF Loss | Training accuracy for n_est = %d max_depth = %d :  %.5f' %(n_estimators, max_depth, \n",
    "                                                                                       clf_svm_rbf.score(X_train, Y_train))\n",
    "Y_train_pred = clf_svm_rbf.predict(X_train)\n",
    "print'SVM RBF Loss | Kappa training score for n_est = %d max_depth = %d : %.5f' %(n_estimators, max_depth, kappa(Y_train, Y_train_pred, weights='quadratic'))\n",
    "Y_val_pred = clf_svm_rbf.predict(X_val)\n",
    "val_acc = clf_svm_rbf.score(X_val, Y_val)\n",
    "print'SVM RBF Loss | Validation accuracy for n_est = %d max_depth = %d :  %.5f' %(n_estimators, max_depth, val_acc)\n",
    "print'SVM RBF Loss| Kappa validation score for n_est = %d max_depth = %d : %.5f' %(n_estimators, max_depth, kappa(Y_val, Y_val_pred, weights='quadratic'))\n"
   ]
  },
  {
   "cell_type": "code",
   "execution_count": 185,
   "metadata": {
    "collapsed": true
   },
   "outputs": [],
   "source": [
    "'''\n",
    "clf = RandomForestClassifier(n_estimators = 10)\n",
    "clf.fit(X_full, Y_full)\n",
    "Y_pred_test = clf.predict(X_test)\n",
    "'''\n",
    "Y_pred_test = clf_logreg.predict(X_test)"
   ]
  },
  {
   "cell_type": "code",
   "execution_count": 186,
   "metadata": {
    "collapsed": false
   },
   "outputs": [
    {
     "data": {
      "text/plain": [
       "array([1, 6, 6, ..., 7, 5, 3], dtype=int64)"
      ]
     },
     "execution_count": 186,
     "metadata": {},
     "output_type": "execute_result"
    }
   ],
   "source": [
    "Y_pred_test"
   ]
  },
  {
   "cell_type": "code",
   "execution_count": 187,
   "metadata": {
    "collapsed": true
   },
   "outputs": [],
   "source": [
    "test_pred = {'response':Y_pred_test}"
   ]
  },
  {
   "cell_type": "code",
   "execution_count": 188,
   "metadata": {
    "collapsed": true
   },
   "outputs": [],
   "source": [
    "test_pred_df = DataFrame(test_pred, index=test_df['Id'])"
   ]
  },
  {
   "cell_type": "code",
   "execution_count": 189,
   "metadata": {
    "collapsed": false
   },
   "outputs": [
    {
     "data": {
      "text/html": [
       "<div>\n",
       "<table border=\"1\" class=\"dataframe\">\n",
       "  <thead>\n",
       "    <tr style=\"text-align: right;\">\n",
       "      <th></th>\n",
       "      <th>response</th>\n",
       "    </tr>\n",
       "    <tr>\n",
       "      <th>Id</th>\n",
       "      <th></th>\n",
       "    </tr>\n",
       "  </thead>\n",
       "  <tbody>\n",
       "    <tr>\n",
       "      <th>1</th>\n",
       "      <td>1</td>\n",
       "    </tr>\n",
       "    <tr>\n",
       "      <th>3</th>\n",
       "      <td>6</td>\n",
       "    </tr>\n",
       "    <tr>\n",
       "      <th>4</th>\n",
       "      <td>6</td>\n",
       "    </tr>\n",
       "    <tr>\n",
       "      <th>9</th>\n",
       "      <td>8</td>\n",
       "    </tr>\n",
       "    <tr>\n",
       "      <th>12</th>\n",
       "      <td>8</td>\n",
       "    </tr>\n",
       "  </tbody>\n",
       "</table>\n",
       "</div>"
      ],
      "text/plain": [
       "    response\n",
       "Id          \n",
       "1          1\n",
       "3          6\n",
       "4          6\n",
       "9          8\n",
       "12         8"
      ]
     },
     "execution_count": 189,
     "metadata": {},
     "output_type": "execute_result"
    }
   ],
   "source": [
    "test_pred_df.head()"
   ]
  },
  {
   "cell_type": "code",
   "execution_count": 190,
   "metadata": {
    "collapsed": true
   },
   "outputs": [],
   "source": [
    "test_pred_df.to_csv('sd_subm_v5.csv')"
   ]
  },
  {
   "cell_type": "code",
   "execution_count": null,
   "metadata": {
    "collapsed": true
   },
   "outputs": [],
   "source": []
  }
 ],
 "metadata": {
  "kernelspec": {
   "display_name": "Python 2",
   "language": "python",
   "name": "python2"
  },
  "language_info": {
   "codemirror_mode": {
    "name": "ipython",
    "version": 2
   },
   "file_extension": ".py",
   "mimetype": "text/x-python",
   "name": "python",
   "nbconvert_exporter": "python",
   "pygments_lexer": "ipython2",
   "version": "2.7.11"
  }
 },
 "nbformat": 4,
 "nbformat_minor": 0
}
